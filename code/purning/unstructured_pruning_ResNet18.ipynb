{
 "cells": [
  {
   "cell_type": "code",
   "execution_count": 1,
   "metadata": {
    "id": "GvNtUKwrils9"
   },
   "outputs": [],
   "source": [
    "%matplotlib inline\n",
    "from copy import deepcopy\n",
    "from collections import OrderedDict\n",
    "import gc\n",
    "import matplotlib.pyplot as plt\n",
    "from tqdm import tqdm_notebook\n",
    "import numpy as np\n",
    "import pandas as pd\n",
    "import torch\n",
    "import torch.nn as nn\n",
    "import torch.nn.functional as F\n",
    "from torch.optim import SGD,Adam,lr_scheduler\n",
    "from torch.utils.data import random_split\n",
    "import torchvision\n",
    "from torchvision import transforms,models\n",
    "import copy\n",
    "from timeit import default_timer as timer\n",
    "import tqdm"
   ]
  },
  {
   "cell_type": "code",
   "execution_count": 2,
   "metadata": {
    "colab": {
     "base_uri": "https://localhost:8080/",
     "height": 101,
     "referenced_widgets": [
      "4ac3c3a4b54e4c398ad2c4960d9b1f02",
      "2488c40391914a1c935ee47692514a50",
      "1acd9f1d0347470e9ebc8077c477c3a3",
      "1b982d72d0cd468eb2ef0a55be175454",
      "3fb6994c8c8b46468a268c7004487425",
      "3a0aac091a1c41c5b5173157a01ca010",
      "1169367ddd9d4778b3f657f67adb4c6f",
      "ceda326cb22e4a6088dfce8df8b57341",
      "7c8d626085734c10a6d6b7b6e525e638",
      "ea215878be24415a9e6a21f8a4f0bef8",
      "44fca097bcc74f3d8c783202ccd67f2e"
     ]
    },
    "id": "aV45WYMWipjn",
    "outputId": "099518b0-435a-442c-dff9-60180ca5b137"
   },
   "outputs": [
    {
     "name": "stdout",
     "output_type": "stream",
     "text": [
      "Files already downloaded and verified\n",
      "Files already downloaded and verified\n"
     ]
    }
   ],
   "source": [
    "train_transform = transforms.Compose([\n",
    "    transforms.Resize(224),\n",
    "    transforms.RandomHorizontalFlip(p=.40),\n",
    "    transforms.RandomRotation(30),\n",
    "    transforms.ToTensor(),\n",
    "    transforms.Normalize([0.485, 0.456, 0.406], [0.229, 0.224, 0.225])])\n",
    "\n",
    "test_transform = transforms.Compose([\n",
    "    transforms.Resize(224),\n",
    "    transforms.ToTensor(),\n",
    "    transforms.Normalize([0.485, 0.456, 0.406], [0.229, 0.224, 0.225])])\n",
    "\n",
    "# If downloaded: download=False\n",
    "traindata = torchvision.datasets.CIFAR10(root='./data', train=True,\n",
    "                                        download=True, transform=train_transform)\n",
    "trainset,valset = random_split(traindata,[42000,8000])\n",
    "trainloader = torch.utils.data.DataLoader(trainset, batch_size=64,shuffle=True)\n",
    "valloader = torch.utils.data.DataLoader(valset, batch_size=64,shuffle=False)\n",
    "\n",
    "testset = torchvision.datasets.CIFAR10(root='./data', train=False,\n",
    "                                       download=True, transform=test_transform)\n",
    "testloader = torch.utils.data.DataLoader(testset, batch_size=64,shuffle=False)\n",
    "\n",
    "classes = ('plane', 'car', 'bird', 'cat','deer', 'dog', 'frog', 'horse', 'ship', 'truck')"
   ]
  },
  {
   "cell_type": "code",
   "execution_count": 3,
   "metadata": {
    "colab": {
     "base_uri": "https://localhost:8080/"
    },
    "id": "ji0jbMNti0QA",
    "outputId": "a0298aaa-3dd8-489e-94e0-33ad8123c2be"
   },
   "outputs": [
    {
     "name": "stderr",
     "output_type": "stream",
     "text": [
      "D:\\Anaconda\\envs\\pytorch\\lib\\site-packages\\torchvision\\models\\_utils.py:208: UserWarning: The parameter 'pretrained' is deprecated since 0.13 and may be removed in the future, please use 'weights' instead.\n",
      "  warnings.warn(\n",
      "D:\\Anaconda\\envs\\pytorch\\lib\\site-packages\\torchvision\\models\\_utils.py:223: UserWarning: Arguments other than a weight enum or `None` for 'weights' are deprecated since 0.13 and may be removed in the future. The current behavior is equivalent to passing `weights=ResNet18_Weights.IMAGENET1K_V1`. You can also use `weights=ResNet18_Weights.DEFAULT` to get the most up-to-date weights.\n",
      "  warnings.warn(msg)\n"
     ]
    },
    {
     "data": {
      "text/plain": [
       "['base', 'drop', 'final']"
      ]
     },
     "execution_count": 3,
     "metadata": {},
     "output_type": "execute_result"
    }
   ],
   "source": [
    "class Model(nn.Module):\n",
    "    def __init__(self):\n",
    "        super().__init__()\n",
    "        base = models.resnet18(pretrained=True)\n",
    "        self.base = nn.Sequential(*list(base.children())[:-1])\n",
    "        in_features = base.fc.in_features\n",
    "        self.drop = nn.Dropout()\n",
    "        self.final = nn.Linear(in_features,10)\n",
    "    \n",
    "    def forward(self,x):\n",
    "        x = self.base(x)\n",
    "        x = self.drop(x.view(-1,self.final.in_features))\n",
    "        return self.final(x)\n",
    "    \n",
    "model = Model().cuda()\n",
    "[x for x,y in model.named_children()]"
   ]
  },
  {
   "cell_type": "code",
   "execution_count": 4,
   "metadata": {
    "id": "5YLRXF0WjRvw"
   },
   "outputs": [],
   "source": [
    "criterion = nn.CrossEntropyLoss()\n",
    "param_groups = [\n",
    "    {'params':model.base.parameters(),'lr':.0001},\n",
    "    {'params':model.final.parameters(),'lr':.001}\n",
    "]\n",
    "optimizer = Adam(param_groups)\n",
    "lr_scheduler = lr_scheduler.StepLR(optimizer, step_size=1, gamma=0.1)\n",
    "states = {}"
   ]
  },
  {
   "cell_type": "code",
   "execution_count": null,
   "metadata": {
    "colab": {
     "base_uri": "https://localhost:8080/",
     "height": 148
    },
    "id": "2fY3WFQdjUey",
    "outputId": "a626ad82-7cd6-408e-ba09-bed45b5d4847"
   },
   "outputs": [],
   "source": [
    "%%time\n",
    "best_val_acc = -1000\n",
    "best_val_model = None\n",
    "for epoch in range(10):  \n",
    "    model.train(True)\n",
    "    running_loss = 0.0\n",
    "    running_acc = 0\n",
    "    for i, data in enumerate(trainloader, 0):\n",
    "        inputs, labels = data\n",
    "        inputs, labels = inputs.cuda(),labels.cuda()\n",
    "\n",
    "        optimizer.zero_grad()\n",
    "        outputs = model(inputs)\n",
    "        loss = criterion(outputs, labels)\n",
    "        loss.backward()\n",
    "        optimizer.step()\n",
    "\n",
    "        # print statistics\n",
    "        running_loss += loss.item() * inputs.size(0)\n",
    "        out = torch.argmax(outputs.detach(),dim=1)\n",
    "        assert out.shape==labels.shape\n",
    "        running_acc += (labels==out).sum().item()\n",
    "    print(f\"Train loss {epoch+1}: {running_loss/len(trainset)},Train Acc:{running_acc*100/len(trainset)}%\")\n",
    "    \n",
    "    correct = 0\n",
    "    model.train(False)\n",
    "    with torch.no_grad():\n",
    "        for inputs,labels in valloader:\n",
    "            out = model(inputs.cuda()).cpu()\n",
    "            out = torch.argmax(out,dim=1)\n",
    "            acc = (out==labels).sum().item()\n",
    "            correct += acc\n",
    "    print(f\"Val accuracy:{correct*100/len(valset)}%\")\n",
    "    if correct>best_val_acc:\n",
    "        best_val_acc = correct\n",
    "        best_val_model = deepcopy(model.state_dict())\n",
    "    lr_scheduler.step()\n",
    "    \n",
    "print('Finished Training') "
   ]
  },
  {
   "cell_type": "code",
   "execution_count": 16,
   "metadata": {
    "colab": {
     "base_uri": "https://localhost:8080/",
     "height": 17
    },
    "id": "hJD_GdGt800X",
    "outputId": "1795b556-7444-40cd-a4ce-fbedc04de735"
   },
   "outputs": [],
   "source": [
    "torch.save(model.state_dict(), r'.\\resnet18_bef.pth')"
   ]
  },
  {
   "cell_type": "code",
   "execution_count": 5,
   "metadata": {
    "colab": {
     "base_uri": "https://localhost:8080/"
    },
    "id": "IiS7sufV81Sw",
    "outputId": "b667fd3d-0b2d-4f6e-beb7-2f22c3524898"
   },
   "outputs": [
    {
     "name": "stdout",
     "output_type": "stream",
     "text": [
      "odict_keys(['base.0.weight', 'base.1.weight', 'base.1.bias', 'base.1.running_mean', 'base.1.running_var', 'base.1.num_batches_tracked', 'base.4.0.conv1.weight', 'base.4.0.bn1.weight', 'base.4.0.bn1.bias', 'base.4.0.bn1.running_mean', 'base.4.0.bn1.running_var', 'base.4.0.bn1.num_batches_tracked', 'base.4.0.conv2.weight', 'base.4.0.bn2.weight', 'base.4.0.bn2.bias', 'base.4.0.bn2.running_mean', 'base.4.0.bn2.running_var', 'base.4.0.bn2.num_batches_tracked', 'base.4.1.conv1.weight', 'base.4.1.bn1.weight', 'base.4.1.bn1.bias', 'base.4.1.bn1.running_mean', 'base.4.1.bn1.running_var', 'base.4.1.bn1.num_batches_tracked', 'base.4.1.conv2.weight', 'base.4.1.bn2.weight', 'base.4.1.bn2.bias', 'base.4.1.bn2.running_mean', 'base.4.1.bn2.running_var', 'base.4.1.bn2.num_batches_tracked', 'base.5.0.conv1.weight', 'base.5.0.bn1.weight', 'base.5.0.bn1.bias', 'base.5.0.bn1.running_mean', 'base.5.0.bn1.running_var', 'base.5.0.bn1.num_batches_tracked', 'base.5.0.conv2.weight', 'base.5.0.bn2.weight', 'base.5.0.bn2.bias', 'base.5.0.bn2.running_mean', 'base.5.0.bn2.running_var', 'base.5.0.bn2.num_batches_tracked', 'base.5.0.downsample.0.weight', 'base.5.0.downsample.1.weight', 'base.5.0.downsample.1.bias', 'base.5.0.downsample.1.running_mean', 'base.5.0.downsample.1.running_var', 'base.5.0.downsample.1.num_batches_tracked', 'base.5.1.conv1.weight', 'base.5.1.bn1.weight', 'base.5.1.bn1.bias', 'base.5.1.bn1.running_mean', 'base.5.1.bn1.running_var', 'base.5.1.bn1.num_batches_tracked', 'base.5.1.conv2.weight', 'base.5.1.bn2.weight', 'base.5.1.bn2.bias', 'base.5.1.bn2.running_mean', 'base.5.1.bn2.running_var', 'base.5.1.bn2.num_batches_tracked', 'base.6.0.conv1.weight', 'base.6.0.bn1.weight', 'base.6.0.bn1.bias', 'base.6.0.bn1.running_mean', 'base.6.0.bn1.running_var', 'base.6.0.bn1.num_batches_tracked', 'base.6.0.conv2.weight', 'base.6.0.bn2.weight', 'base.6.0.bn2.bias', 'base.6.0.bn2.running_mean', 'base.6.0.bn2.running_var', 'base.6.0.bn2.num_batches_tracked', 'base.6.0.downsample.0.weight', 'base.6.0.downsample.1.weight', 'base.6.0.downsample.1.bias', 'base.6.0.downsample.1.running_mean', 'base.6.0.downsample.1.running_var', 'base.6.0.downsample.1.num_batches_tracked', 'base.6.1.conv1.weight', 'base.6.1.bn1.weight', 'base.6.1.bn1.bias', 'base.6.1.bn1.running_mean', 'base.6.1.bn1.running_var', 'base.6.1.bn1.num_batches_tracked', 'base.6.1.conv2.weight', 'base.6.1.bn2.weight', 'base.6.1.bn2.bias', 'base.6.1.bn2.running_mean', 'base.6.1.bn2.running_var', 'base.6.1.bn2.num_batches_tracked', 'base.7.0.conv1.weight', 'base.7.0.bn1.weight', 'base.7.0.bn1.bias', 'base.7.0.bn1.running_mean', 'base.7.0.bn1.running_var', 'base.7.0.bn1.num_batches_tracked', 'base.7.0.conv2.weight', 'base.7.0.bn2.weight', 'base.7.0.bn2.bias', 'base.7.0.bn2.running_mean', 'base.7.0.bn2.running_var', 'base.7.0.bn2.num_batches_tracked', 'base.7.0.downsample.0.weight', 'base.7.0.downsample.1.weight', 'base.7.0.downsample.1.bias', 'base.7.0.downsample.1.running_mean', 'base.7.0.downsample.1.running_var', 'base.7.0.downsample.1.num_batches_tracked', 'base.7.1.conv1.weight', 'base.7.1.bn1.weight', 'base.7.1.bn1.bias', 'base.7.1.bn1.running_mean', 'base.7.1.bn1.running_var', 'base.7.1.bn1.num_batches_tracked', 'base.7.1.conv2.weight', 'base.7.1.bn2.weight', 'base.7.1.bn2.bias', 'base.7.1.bn2.running_mean', 'base.7.1.bn2.running_var', 'base.7.1.bn2.num_batches_tracked', 'final.weight', 'final.bias'])\n"
     ]
    }
   ],
   "source": [
    "state_dict = torch.load(r'.\\resnet18_bef.pth')\n",
    "print(state_dict.keys())"
   ]
  },
  {
   "cell_type": "code",
   "execution_count": 6,
   "metadata": {
    "colab": {
     "base_uri": "https://localhost:8080/"
    },
    "id": "tiqd9Axm9aw7",
    "outputId": "df3a1546-2bf9-441c-c57e-e0143cae9562"
   },
   "outputs": [
    {
     "data": {
      "text/plain": [
       "<All keys matched successfully>"
      ]
     },
     "execution_count": 6,
     "metadata": {},
     "output_type": "execute_result"
    }
   ],
   "source": [
    "model.load_state_dict(state_dict)"
   ]
  },
  {
   "cell_type": "code",
   "execution_count": 7,
   "metadata": {
    "colab": {
     "base_uri": "https://localhost:8080/"
    },
    "id": "KAKFVUwdkbW_",
    "outputId": "0da5464b-bf93-45d0-a9fa-673a1b054988"
   },
   "outputs": [
    {
     "name": "stdout",
     "output_type": "stream",
     "text": [
      "Val accuracy:94.575%\n"
     ]
    }
   ],
   "source": [
    "#check accuracy for original model\n",
    "correct = 0\n",
    "model.train(False)\n",
    "with torch.no_grad():\n",
    "    for inputs,labels in valloader:\n",
    "        out = model(inputs.cuda()).cpu()\n",
    "        out = torch.argmax(out,dim=1)\n",
    "        acc = (out==labels).sum().item()\n",
    "        correct += acc\n",
    "print(f\"Val accuracy:{correct*100/len(valset)}%\")"
   ]
  },
  {
   "cell_type": "code",
   "execution_count": 8,
   "metadata": {
    "colab": {
     "base_uri": "https://localhost:8080/"
    },
    "id": "AaWdpOUmiKQO",
    "outputId": "9fa678dd-6628-439f-8e19-b76dc6caf268"
   },
   "outputs": [],
   "source": [
    "def get_cpu_inference_time_and_test_acc(model, test_loader):\n",
    "    test_data_size = len(testloader.dataset)\n",
    "    cpu_device = torch.device(\"cpu\")\n",
    "    model = model.to(cpu_device)\n",
    "    # Wam-up\n",
    "    # Because I sequentially run each cell above, and they includes for loop, I assume the CPU is warmed up\n",
    "#     torch.cuda.synchronize()\n",
    "    elapsed_time_ms = 0\n",
    "    start = timer()\n",
    "    # Start Inference Phase\n",
    "    correct = 0\n",
    "    with torch.no_grad():\n",
    "        for imgs, labels in tqdm.tqdm(test_loader):\n",
    "#             imgs, labels = imgs.cuda(), labels.cuda()\n",
    "            imgs, labels = imgs.to(cpu_device), labels.to(cpu_device)\n",
    "            out = model(imgs.float())\n",
    "            predictions = out.argmax(dim=1, keepdim=True)  \n",
    "            correct += predictions.eq(labels.view_as(predictions)).sum().item()\n",
    "#             break\n",
    "    accuracy = correct/len(test_loader.dataset)\n",
    "    print(accuracy)\n",
    "    # End of inference Phase\n",
    "#     torch.cuda.synchronize()\n",
    "    end = timer()\n",
    "    elapsed_time_ms = (end - start) * 1000\n",
    "    per_sample = elapsed_time_ms/test_data_size\n",
    "    print(\"CPU Inference time is \" + str(per_sample)+ ' ms')\n",
    "    return per_sample, accuracy"
   ]
  },
  {
   "cell_type": "code",
   "execution_count": 9,
   "metadata": {},
   "outputs": [
    {
     "name": "stderr",
     "output_type": "stream",
     "text": [
      "100%|████████████████████████████████████████████████████████████████████████████████| 157/157 [01:43<00:00,  1.52it/s]"
     ]
    },
    {
     "name": "stdout",
     "output_type": "stream",
     "text": [
      "0.9412\n",
      "CPU Inference time is 10.356740440000001 ms\n"
     ]
    },
    {
     "name": "stderr",
     "output_type": "stream",
     "text": [
      "\n"
     ]
    }
   ],
   "source": [
    "# Original Model\n",
    "torch.cuda.empty_cache()\n",
    "criterion=torch.nn.CrossEntropyLoss()\n",
    "model.eval()\n",
    "cpu_inf_time, acc = get_cpu_inference_time_and_test_acc(model, testloader)"
   ]
  },
  {
   "cell_type": "code",
   "execution_count": 9,
   "metadata": {
    "id": "tGg3nPuv-GPo"
   },
   "outputs": [],
   "source": [
    "import torch.nn.utils.prune as prune"
   ]
  },
  {
   "cell_type": "code",
   "execution_count": 10,
   "metadata": {
    "id": "ko-NAdOyhPeI"
   },
   "outputs": [],
   "source": [
    "parameters_to_prune1 =[] # 0.1\n",
    "parameters_to_prune2 =[] # 0.3\n",
    "parameters_to_prune3 =[] # 0.5\n",
    "parameters_to_prune4 =[] # 0.7\n",
    "parameters_to_prune5 =[] # 0.9\n",
    "\n",
    "compressed_model1 = copy.deepcopy(model)\n",
    "compressed_model2 = copy.deepcopy(model)\n",
    "compressed_model3 = copy.deepcopy(model)\n",
    "compressed_model4 = copy.deepcopy(model)\n",
    "compressed_model5 = copy.deepcopy(model)"
   ]
  },
  {
   "cell_type": "code",
   "execution_count": 11,
   "metadata": {
    "id": "bXsQcEH46XMb"
   },
   "outputs": [],
   "source": [
    "parameters_to_prune1.append((compressed_model1.base[0],'weight'))\n",
    "parameters_to_prune1.append((compressed_model1.base[1],'weight'))\n",
    "parameters_to_prune1.append((compressed_model1.base[1],'bias'))\n",
    "\n",
    "parameters_to_prune2.append((compressed_model2.base[0],'weight'))\n",
    "parameters_to_prune2.append((compressed_model2.base[1],'weight'))\n",
    "parameters_to_prune2.append((compressed_model2.base[1],'bias'))\n",
    "\n",
    "parameters_to_prune3.append((compressed_model3.base[0],'weight'))\n",
    "parameters_to_prune3.append((compressed_model3.base[1],'weight'))\n",
    "parameters_to_prune3.append((compressed_model3.base[1],'bias'))\n",
    "\n",
    "parameters_to_prune4.append((compressed_model4.base[0],'weight'))\n",
    "parameters_to_prune4.append((compressed_model4.base[1],'weight'))\n",
    "parameters_to_prune4.append((compressed_model4.base[1],'bias'))\n",
    "\n",
    "parameters_to_prune5.append((compressed_model5.base[0],'weight'))\n",
    "parameters_to_prune5.append((compressed_model5.base[1],'weight'))\n",
    "parameters_to_prune5.append((compressed_model5.base[1],'bias'))"
   ]
  },
  {
   "cell_type": "code",
   "execution_count": 12,
   "metadata": {
    "id": "kmzJX4nWHUZz"
   },
   "outputs": [],
   "source": [
    "for i in range(4,8):\n",
    "    for j in range(0,2):\n",
    "        parameters_to_prune1.append((compressed_model1.base[i][j].conv1,\"weight\"))\n",
    "        parameters_to_prune1.append((compressed_model1.base[i][j].bn1,\"weight\"))\n",
    "        parameters_to_prune1.append((compressed_model1.base[i][j].bn1,\"bias\"))\n",
    "        parameters_to_prune1.append((compressed_model1.base[i][j].conv2,\"weight\"))\n",
    "        parameters_to_prune1.append((compressed_model1.base[i][j].bn2,\"weight\"))\n",
    "        parameters_to_prune1.append((compressed_model1.base[i][j].bn2,\"bias\"))\n",
    "    \n",
    "for i in range(4,8):\n",
    "    for j in range(0,2):\n",
    "        parameters_to_prune2.append((compressed_model2.base[i][j].conv1,\"weight\"))\n",
    "        parameters_to_prune2.append((compressed_model2.base[i][j].bn1,\"weight\"))\n",
    "        parameters_to_prune2.append((compressed_model2.base[i][j].bn1,\"bias\"))\n",
    "        parameters_to_prune2.append((compressed_model2.base[i][j].conv2,\"weight\"))\n",
    "        parameters_to_prune2.append((compressed_model2.base[i][j].bn2,\"weight\"))\n",
    "        parameters_to_prune2.append((compressed_model2.base[i][j].bn2,\"bias\"))\n",
    "        \n",
    "for i in range(4,8):\n",
    "    for j in range(0,2):\n",
    "        parameters_to_prune3.append((compressed_model3.base[i][j].conv1,\"weight\"))\n",
    "        parameters_to_prune3.append((compressed_model3.base[i][j].bn1,\"weight\"))\n",
    "        parameters_to_prune3.append((compressed_model3.base[i][j].bn1,\"bias\"))\n",
    "        parameters_to_prune3.append((compressed_model3.base[i][j].conv2,\"weight\"))\n",
    "        parameters_to_prune3.append((compressed_model3.base[i][j].bn2,\"weight\"))\n",
    "        parameters_to_prune3.append((compressed_model3.base[i][j].bn2,\"bias\"))\n",
    "\n",
    "for i in range(4,8):\n",
    "    for j in range(0,2):\n",
    "        parameters_to_prune4.append((compressed_model4.base[i][j].conv1,\"weight\"))\n",
    "        parameters_to_prune4.append((compressed_model4.base[i][j].bn1,\"weight\"))\n",
    "        parameters_to_prune4.append((compressed_model4.base[i][j].bn1,\"bias\"))\n",
    "        parameters_to_prune4.append((compressed_model4.base[i][j].conv2,\"weight\"))\n",
    "        parameters_to_prune4.append((compressed_model4.base[i][j].bn2,\"weight\"))\n",
    "        parameters_to_prune4.append((compressed_model4.base[i][j].bn2,\"bias\"))\n",
    "        \n",
    "for i in range(4,8):\n",
    "    for j in range(0,2):\n",
    "        parameters_to_prune5.append((compressed_model5.base[i][j].conv1,\"weight\"))\n",
    "        parameters_to_prune5.append((compressed_model5.base[i][j].bn1,\"weight\"))\n",
    "        parameters_to_prune5.append((compressed_model5.base[i][j].bn1,\"bias\"))\n",
    "        parameters_to_prune5.append((compressed_model5.base[i][j].conv2,\"weight\"))\n",
    "        parameters_to_prune5.append((compressed_model5.base[i][j].bn2,\"weight\"))\n",
    "        parameters_to_prune5.append((compressed_model5.base[i][j].bn2,\"bias\"))"
   ]
  },
  {
   "cell_type": "code",
   "execution_count": 13,
   "metadata": {
    "id": "uLdRL8IQouUZ"
   },
   "outputs": [],
   "source": [
    "for i in range(5,8):\n",
    "    parameters_to_prune1.append((compressed_model1.base[i][0].downsample[0],\"weight\"))\n",
    "    parameters_to_prune1.append((compressed_model1.base[i][0].downsample[1],\"weight\"))\n",
    "    parameters_to_prune1.append((compressed_model1.base[i][0].downsample[1],\"bias\"))\n",
    "    \n",
    "for i in range(5,8):\n",
    "    parameters_to_prune2.append((compressed_model2.base[i][0].downsample[0],\"weight\"))\n",
    "    parameters_to_prune2.append((compressed_model2.base[i][0].downsample[1],\"weight\"))\n",
    "    parameters_to_prune2.append((compressed_model2.base[i][0].downsample[1],\"bias\"))\n",
    "    \n",
    "for i in range(5,8):\n",
    "    parameters_to_prune3.append((compressed_model3.base[i][0].downsample[0],\"weight\"))\n",
    "    parameters_to_prune3.append((compressed_model3.base[i][0].downsample[1],\"weight\"))\n",
    "    parameters_to_prune3.append((compressed_model3.base[i][0].downsample[1],\"bias\"))\n",
    "    \n",
    "for i in range(5,8):\n",
    "    parameters_to_prune4.append((compressed_model4.base[i][0].downsample[0],\"weight\"))\n",
    "    parameters_to_prune4.append((compressed_model4.base[i][0].downsample[1],\"weight\"))\n",
    "    parameters_to_prune4.append((compressed_model4.base[i][0].downsample[1],\"bias\"))\n",
    "    \n",
    "for i in range(5,8):\n",
    "    parameters_to_prune5.append((compressed_model5.base[i][0].downsample[0],\"weight\"))\n",
    "    parameters_to_prune5.append((compressed_model5.base[i][0].downsample[1],\"weight\"))\n",
    "    parameters_to_prune5.append((compressed_model5.base[i][0].downsample[1],\"bias\"))"
   ]
  },
  {
   "cell_type": "code",
   "execution_count": 14,
   "metadata": {
    "id": "6yOOopjqLgec"
   },
   "outputs": [],
   "source": [
    "parameters_to_prune1 = tuple(parameters_to_prune1)\n",
    "parameters_to_prune2 = tuple(parameters_to_prune2)\n",
    "parameters_to_prune3 = tuple(parameters_to_prune3)\n",
    "parameters_to_prune4 = tuple(parameters_to_prune4)\n",
    "parameters_to_prune5 = tuple(parameters_to_prune5)"
   ]
  },
  {
   "cell_type": "code",
   "execution_count": 15,
   "metadata": {
    "id": "OVoIdaWRjyW0"
   },
   "outputs": [],
   "source": [
    "prune.global_unstructured(\n",
    "        parameters_to_prune1,\n",
    "        pruning_method=prune.L1Unstructured,\n",
    "        amount=0.1,\n",
    "    )\n",
    "prune.global_unstructured(\n",
    "        parameters_to_prune2,\n",
    "        pruning_method=prune.L1Unstructured,\n",
    "        amount=0.3,\n",
    "    )\n",
    "prune.global_unstructured(\n",
    "        parameters_to_prune3,\n",
    "        pruning_method=prune.L1Unstructured,\n",
    "        amount=0.5,\n",
    "    )\n",
    "prune.global_unstructured(\n",
    "        parameters_to_prune4,\n",
    "        pruning_method=prune.L1Unstructured,\n",
    "        amount=0.7,\n",
    "    )\n",
    "prune.global_unstructured(\n",
    "        parameters_to_prune5,\n",
    "        pruning_method=prune.L1Unstructured,\n",
    "        amount=0.9,\n",
    "    )"
   ]
  },
  {
   "cell_type": "code",
   "execution_count": 16,
   "metadata": {},
   "outputs": [
    {
     "data": {
      "text/plain": [
       "BatchNorm2d(64, eps=1e-05, momentum=0.1, affine=True, track_running_stats=True)"
      ]
     },
     "execution_count": 16,
     "metadata": {},
     "output_type": "execute_result"
    }
   ],
   "source": [
    "prune.remove(compressed_model1.base[0],'weight')\n",
    "prune.remove(compressed_model1.base[1],'weight')\n",
    "prune.remove(compressed_model1.base[1],'bias')\n",
    "\n",
    "prune.remove(compressed_model2.base[0],'weight')\n",
    "prune.remove(compressed_model2.base[1],'weight')\n",
    "prune.remove(compressed_model2.base[1],'bias')\n",
    "\n",
    "prune.remove(compressed_model3.base[0],'weight')\n",
    "prune.remove(compressed_model3.base[1],'weight')\n",
    "prune.remove(compressed_model3.base[1],'bias')\n",
    "\n",
    "prune.remove(compressed_model4.base[0],'weight')\n",
    "prune.remove(compressed_model4.base[1],'weight')\n",
    "prune.remove(compressed_model4.base[1],'bias')\n",
    "\n",
    "prune.remove(compressed_model5.base[0],'weight')\n",
    "prune.remove(compressed_model5.base[1],'weight')\n",
    "prune.remove(compressed_model5.base[1],'bias')"
   ]
  },
  {
   "cell_type": "code",
   "execution_count": 17,
   "metadata": {},
   "outputs": [],
   "source": [
    "for i in range(4,8):\n",
    "    for j in range(0,2):\n",
    "        prune.remove(compressed_model1.base[i][j].conv1,\"weight\")\n",
    "        prune.remove(compressed_model1.base[i][j].bn1,\"weight\")\n",
    "        prune.remove(compressed_model1.base[i][j].bn1,\"bias\")\n",
    "        prune.remove(compressed_model1.base[i][j].conv2,\"weight\")\n",
    "        prune.remove(compressed_model1.base[i][j].bn2,\"weight\")\n",
    "        prune.remove(compressed_model1.base[i][j].bn2,\"bias\")\n",
    "        \n",
    "        prune.remove(compressed_model2.base[i][j].conv1,\"weight\")\n",
    "        prune.remove(compressed_model2.base[i][j].bn1,\"weight\")\n",
    "        prune.remove(compressed_model2.base[i][j].bn1,\"bias\")\n",
    "        prune.remove(compressed_model2.base[i][j].conv2,\"weight\")\n",
    "        prune.remove(compressed_model2.base[i][j].bn2,\"weight\")\n",
    "        prune.remove(compressed_model2.base[i][j].bn2,\"bias\")\n",
    "        \n",
    "        prune.remove(compressed_model3.base[i][j].conv1,\"weight\")\n",
    "        prune.remove(compressed_model3.base[i][j].bn1,\"weight\")\n",
    "        prune.remove(compressed_model3.base[i][j].bn1,\"bias\")\n",
    "        prune.remove(compressed_model3.base[i][j].conv2,\"weight\")\n",
    "        prune.remove(compressed_model3.base[i][j].bn2,\"weight\")\n",
    "        prune.remove(compressed_model3.base[i][j].bn2,\"bias\")\n",
    "        \n",
    "        prune.remove(compressed_model4.base[i][j].conv1,\"weight\")\n",
    "        prune.remove(compressed_model4.base[i][j].bn1,\"weight\")\n",
    "        prune.remove(compressed_model4.base[i][j].bn1,\"bias\")\n",
    "        prune.remove(compressed_model4.base[i][j].conv2,\"weight\")\n",
    "        prune.remove(compressed_model4.base[i][j].bn2,\"weight\")\n",
    "        prune.remove(compressed_model4.base[i][j].bn2,\"bias\")\n",
    "        \n",
    "        prune.remove(compressed_model5.base[i][j].conv1,\"weight\")\n",
    "        prune.remove(compressed_model5.base[i][j].bn1,\"weight\")\n",
    "        prune.remove(compressed_model5.base[i][j].bn1,\"bias\")\n",
    "        prune.remove(compressed_model5.base[i][j].conv2,\"weight\")\n",
    "        prune.remove(compressed_model5.base[i][j].bn2,\"weight\")\n",
    "        prune.remove(compressed_model5.base[i][j].bn2,\"bias\")"
   ]
  },
  {
   "cell_type": "code",
   "execution_count": 18,
   "metadata": {},
   "outputs": [],
   "source": [
    "for i in range(5,8):\n",
    "    prune.remove(compressed_model1.base[i][0].downsample[0],\"weight\")\n",
    "    prune.remove(compressed_model1.base[i][0].downsample[1],\"weight\")\n",
    "    prune.remove(compressed_model1.base[i][0].downsample[1],\"bias\")\n",
    "    \n",
    "    prune.remove(compressed_model2.base[i][0].downsample[0],\"weight\")\n",
    "    prune.remove(compressed_model2.base[i][0].downsample[1],\"weight\")\n",
    "    prune.remove(compressed_model2.base[i][0].downsample[1],\"bias\")\n",
    "    \n",
    "    prune.remove(compressed_model3.base[i][0].downsample[0],\"weight\")\n",
    "    prune.remove(compressed_model3.base[i][0].downsample[1],\"weight\")\n",
    "    prune.remove(compressed_model3.base[i][0].downsample[1],\"bias\")\n",
    "    \n",
    "    prune.remove(compressed_model4.base[i][0].downsample[0],\"weight\")\n",
    "    prune.remove(compressed_model4.base[i][0].downsample[1],\"weight\")\n",
    "    prune.remove(compressed_model4.base[i][0].downsample[1],\"bias\")\n",
    "    \n",
    "    prune.remove(compressed_model5.base[i][0].downsample[0],\"weight\")\n",
    "    prune.remove(compressed_model5.base[i][0].downsample[1],\"weight\")\n",
    "    prune.remove(compressed_model5.base[i][0].downsample[1],\"bias\")"
   ]
  },
  {
   "cell_type": "code",
   "execution_count": 19,
   "metadata": {},
   "outputs": [],
   "source": [
    "torch.save(compressed_model1.state_dict(), r'.\\resnet18_compressed1_pruning.pth')\n",
    "torch.save(compressed_model2.state_dict(), r'.\\resnet18_compressed2_pruning.pth')\n",
    "torch.save(compressed_model3.state_dict(), r'.\\resnet18_compressed3_pruning.pth')\n",
    "torch.save(compressed_model4.state_dict(), r'.\\resnet18_compressed4_pruning.pth')\n",
    "torch.save(compressed_model5.state_dict(), r'.\\resnet18_compressed5_pruning.pth')"
   ]
  },
  {
   "cell_type": "code",
   "execution_count": 18,
   "metadata": {},
   "outputs": [
    {
     "name": "stderr",
     "output_type": "stream",
     "text": [
      "100%|████████████████████████████████████████████████████████████████████████████████| 157/157 [01:49<00:00,  1.44it/s]"
     ]
    },
    {
     "name": "stdout",
     "output_type": "stream",
     "text": [
      "0.9419\n",
      "CPU Inference time is 10.929069049999999 ms\n"
     ]
    },
    {
     "name": "stderr",
     "output_type": "stream",
     "text": [
      "\n"
     ]
    }
   ],
   "source": [
    "torch.cuda.empty_cache()\n",
    "criterion=torch.nn.CrossEntropyLoss()\n",
    "compressed_model1.eval()\n",
    "cpu_inf_time1, acc1 = get_cpu_inference_time_and_test_acc(compressed_model1, testloader)"
   ]
  },
  {
   "cell_type": "code",
   "execution_count": 19,
   "metadata": {},
   "outputs": [
    {
     "name": "stderr",
     "output_type": "stream",
     "text": [
      "100%|████████████████████████████████████████████████████████████████████████████████| 157/157 [01:47<00:00,  1.47it/s]"
     ]
    },
    {
     "name": "stdout",
     "output_type": "stream",
     "text": [
      "0.9403\n",
      "CPU Inference time is 10.708836489999998 ms\n"
     ]
    },
    {
     "name": "stderr",
     "output_type": "stream",
     "text": [
      "\n"
     ]
    }
   ],
   "source": [
    "torch.cuda.empty_cache()\n",
    "criterion=torch.nn.CrossEntropyLoss()\n",
    "compressed_model2.eval()\n",
    "cpu_inf_time2, acc2 = get_cpu_inference_time_and_test_acc(compressed_model2, testloader)"
   ]
  },
  {
   "cell_type": "code",
   "execution_count": 20,
   "metadata": {},
   "outputs": [
    {
     "name": "stderr",
     "output_type": "stream",
     "text": [
      "100%|████████████████████████████████████████████████████████████████████████████████| 157/157 [01:46<00:00,  1.47it/s]"
     ]
    },
    {
     "name": "stdout",
     "output_type": "stream",
     "text": [
      "0.93\n",
      "CPU Inference time is 10.677233850000004 ms\n"
     ]
    },
    {
     "name": "stderr",
     "output_type": "stream",
     "text": [
      "\n"
     ]
    }
   ],
   "source": [
    "torch.cuda.empty_cache()\n",
    "criterion=torch.nn.CrossEntropyLoss()\n",
    "compressed_model3.eval()\n",
    "cpu_inf_time3, acc3 = get_cpu_inference_time_and_test_acc(compressed_model3, testloader)"
   ]
  },
  {
   "cell_type": "code",
   "execution_count": 21,
   "metadata": {},
   "outputs": [
    {
     "name": "stderr",
     "output_type": "stream",
     "text": [
      "100%|████████████████████████████████████████████████████████████████████████████████| 157/157 [01:46<00:00,  1.47it/s]"
     ]
    },
    {
     "name": "stdout",
     "output_type": "stream",
     "text": [
      "0.8265\n",
      "CPU Inference time is 10.650530850000008 ms\n"
     ]
    },
    {
     "name": "stderr",
     "output_type": "stream",
     "text": [
      "\n"
     ]
    }
   ],
   "source": [
    "torch.cuda.empty_cache()\n",
    "criterion=torch.nn.CrossEntropyLoss()\n",
    "compressed_model4.eval()\n",
    "cpu_inf_time4, acc4 = get_cpu_inference_time_and_test_acc(compressed_model4, testloader)"
   ]
  },
  {
   "cell_type": "code",
   "execution_count": 22,
   "metadata": {},
   "outputs": [
    {
     "name": "stderr",
     "output_type": "stream",
     "text": [
      "100%|████████████████████████████████████████████████████████████████████████████████| 157/157 [01:46<00:00,  1.48it/s]"
     ]
    },
    {
     "name": "stdout",
     "output_type": "stream",
     "text": [
      "0.0996\n",
      "CPU Inference time is 10.60190606000001 ms\n"
     ]
    },
    {
     "name": "stderr",
     "output_type": "stream",
     "text": [
      "\n"
     ]
    }
   ],
   "source": [
    "torch.cuda.empty_cache()\n",
    "criterion=torch.nn.CrossEntropyLoss()\n",
    "compressed_model5.eval()\n",
    "cpu_inf_time5, acc5 = get_cpu_inference_time_and_test_acc(compressed_model5, testloader)"
   ]
  },
  {
   "cell_type": "code",
   "execution_count": 32,
   "metadata": {},
   "outputs": [
    {
     "data": {
      "text/html": [
       "<div>\n",
       "<style scoped>\n",
       "    .dataframe tbody tr th:only-of-type {\n",
       "        vertical-align: middle;\n",
       "    }\n",
       "\n",
       "    .dataframe tbody tr th {\n",
       "        vertical-align: top;\n",
       "    }\n",
       "\n",
       "    .dataframe thead th {\n",
       "        text-align: right;\n",
       "    }\n",
       "</style>\n",
       "<table border=\"1\" class=\"dataframe\">\n",
       "  <thead>\n",
       "    <tr style=\"text-align: right;\">\n",
       "      <th></th>\n",
       "      <th>l1_unstructed</th>\n",
       "    </tr>\n",
       "    <tr>\n",
       "      <th>Proportion</th>\n",
       "      <th></th>\n",
       "    </tr>\n",
       "  </thead>\n",
       "  <tbody>\n",
       "    <tr>\n",
       "      <th>0.0</th>\n",
       "      <td>10.356740</td>\n",
       "    </tr>\n",
       "    <tr>\n",
       "      <th>0.1</th>\n",
       "      <td>10.929069</td>\n",
       "    </tr>\n",
       "    <tr>\n",
       "      <th>0.3</th>\n",
       "      <td>10.708836</td>\n",
       "    </tr>\n",
       "    <tr>\n",
       "      <th>0.5</th>\n",
       "      <td>10.677234</td>\n",
       "    </tr>\n",
       "    <tr>\n",
       "      <th>0.7</th>\n",
       "      <td>10.650531</td>\n",
       "    </tr>\n",
       "    <tr>\n",
       "      <th>0.9</th>\n",
       "      <td>10.601906</td>\n",
       "    </tr>\n",
       "  </tbody>\n",
       "</table>\n",
       "</div>"
      ],
      "text/plain": [
       "            l1_unstructed\n",
       "Proportion               \n",
       "0.0             10.356740\n",
       "0.1             10.929069\n",
       "0.3             10.708836\n",
       "0.5             10.677234\n",
       "0.7             10.650531\n",
       "0.9             10.601906"
      ]
     },
     "metadata": {},
     "output_type": "display_data"
    }
   ],
   "source": [
    "cpu_data = {'l1_unstructed': [cpu_inf_time,\n",
    "                              cpu_inf_time1, \n",
    "                              cpu_inf_time2,\n",
    "                              cpu_inf_time3,\n",
    "                              cpu_inf_time4,\n",
    "                              cpu_inf_time5],\n",
    "           'Proportion': ['0.0','0.1','0.3','0.5','0.7','0.9']}\n",
    "cpu_df = pd.DataFrame.from_dict(cpu_data, orient='columns').set_index('Proportion')\n",
    "display(cpu_df)\n",
    "cpu_df.to_csv(\"ResNet18_cpu_inf.csv\")"
   ]
  },
  {
   "cell_type": "code",
   "execution_count": 33,
   "metadata": {},
   "outputs": [
    {
     "data": {
      "text/html": [
       "<div>\n",
       "<style scoped>\n",
       "    .dataframe tbody tr th:only-of-type {\n",
       "        vertical-align: middle;\n",
       "    }\n",
       "\n",
       "    .dataframe tbody tr th {\n",
       "        vertical-align: top;\n",
       "    }\n",
       "\n",
       "    .dataframe thead th {\n",
       "        text-align: right;\n",
       "    }\n",
       "</style>\n",
       "<table border=\"1\" class=\"dataframe\">\n",
       "  <thead>\n",
       "    <tr style=\"text-align: right;\">\n",
       "      <th></th>\n",
       "      <th>l1_unstructed</th>\n",
       "    </tr>\n",
       "    <tr>\n",
       "      <th>Proportion</th>\n",
       "      <th></th>\n",
       "    </tr>\n",
       "  </thead>\n",
       "  <tbody>\n",
       "    <tr>\n",
       "      <th>0.0</th>\n",
       "      <td>0.9412</td>\n",
       "    </tr>\n",
       "    <tr>\n",
       "      <th>0.1</th>\n",
       "      <td>0.9419</td>\n",
       "    </tr>\n",
       "    <tr>\n",
       "      <th>0.3</th>\n",
       "      <td>0.9403</td>\n",
       "    </tr>\n",
       "    <tr>\n",
       "      <th>0.5</th>\n",
       "      <td>0.9300</td>\n",
       "    </tr>\n",
       "    <tr>\n",
       "      <th>0.7</th>\n",
       "      <td>0.8265</td>\n",
       "    </tr>\n",
       "    <tr>\n",
       "      <th>0.9</th>\n",
       "      <td>0.0996</td>\n",
       "    </tr>\n",
       "  </tbody>\n",
       "</table>\n",
       "</div>"
      ],
      "text/plain": [
       "            l1_unstructed\n",
       "Proportion               \n",
       "0.0                0.9412\n",
       "0.1                0.9419\n",
       "0.3                0.9403\n",
       "0.5                0.9300\n",
       "0.7                0.8265\n",
       "0.9                0.0996"
      ]
     },
     "metadata": {},
     "output_type": "display_data"
    }
   ],
   "source": [
    "acc_data = {'l1_unstructed': [acc,\n",
    "                              acc1, \n",
    "                              acc2,\n",
    "                              acc3,\n",
    "                              acc4,\n",
    "                              acc5],\n",
    "           'Proportion': ['0.0','0.1','0.3','0.5','0.7','0.9']}\n",
    "acc_df = pd.DataFrame.from_dict(acc_data, orient='columns').set_index('Proportion')\n",
    "display(acc_df)\n",
    "acc_df.to_csv(\"ResNet18_acc.csv\")"
   ]
  },
  {
   "cell_type": "code",
   "execution_count": 31,
   "metadata": {},
   "outputs": [
    {
     "data": {
      "image/png": "[encoded data removed]",
      "text/plain": [
       "<Figure size 1500x1200 with 1 Axes>"
      ]
     },
     "metadata": {},
     "output_type": "display_data"
    }
   ],
   "source": [
    "accuracy = [acc, acc1, acc2, acc3, acc4, acc5]\n",
    "percent = [0.0, 0.1, 0.3, 0.5, 0.7, 0.9]\n",
    "\n",
    "plt.figure(figsize=(10,8),dpi=150)\n",
    "plt.plot(percent, accuracy, color='r', marker='o', markerfacecolor='blue')\n",
    "plt.xticks ([0.0, 0.1, 0.3, 0.5, 0.7, 0.9])\n",
    "plt.title(\"ResNet18: Accuracy vs. Pruning Percent\")\n",
    "plt.xlabel(\"Pruning Percent\")\n",
    "plt.ylabel(\"Accuracy\")\n",
    "for a, b in zip(percent, accuracy):\n",
    "    plt.text(a, b, b, ha='center', va='bottom', fontsize=9)\n",
    "plt.savefig('ResNet18_Accuracy vs. Pruning Percent.png')\n",
    "plt.show()"
   ]
  },
  {
   "cell_type": "code",
   "execution_count": 20,
   "metadata": {},
   "outputs": [
    {
     "name": "stdout",
     "output_type": "stream",
     "text": [
      "base.0.weight: torch.Size([64, 3, 7, 7]), non-zero elements: 9408\n",
      "base.1.weight: torch.Size([64]), non-zero elements: 64\n",
      "base.4.0.conv1.weight: torch.Size([64, 64, 3, 3]), non-zero elements: 36864\n",
      "base.4.0.bn1.weight: torch.Size([64]), non-zero elements: 64\n",
      "base.4.0.conv2.weight: torch.Size([64, 64, 3, 3]), non-zero elements: 36864\n",
      "base.4.0.bn2.weight: torch.Size([64]), non-zero elements: 64\n",
      "base.4.1.conv1.weight: torch.Size([64, 64, 3, 3]), non-zero elements: 36864\n",
      "base.4.1.bn1.weight: torch.Size([64]), non-zero elements: 64\n",
      "base.4.1.conv2.weight: torch.Size([64, 64, 3, 3]), non-zero elements: 36864\n",
      "base.4.1.bn2.weight: torch.Size([64]), non-zero elements: 64\n",
      "base.5.0.conv1.weight: torch.Size([128, 64, 3, 3]), non-zero elements: 73728\n",
      "base.5.0.bn1.weight: torch.Size([128]), non-zero elements: 128\n",
      "base.5.0.conv2.weight: torch.Size([128, 128, 3, 3]), non-zero elements: 147456\n",
      "base.5.0.bn2.weight: torch.Size([128]), non-zero elements: 128\n",
      "base.5.0.downsample.0.weight: torch.Size([128, 64, 1, 1]), non-zero elements: 8192\n",
      "base.5.0.downsample.1.weight: torch.Size([128]), non-zero elements: 128\n",
      "base.5.1.conv1.weight: torch.Size([128, 128, 3, 3]), non-zero elements: 147456\n",
      "base.5.1.bn1.weight: torch.Size([128]), non-zero elements: 128\n",
      "base.5.1.conv2.weight: torch.Size([128, 128, 3, 3]), non-zero elements: 147456\n",
      "base.5.1.bn2.weight: torch.Size([128]), non-zero elements: 128\n",
      "base.6.0.conv1.weight: torch.Size([256, 128, 3, 3]), non-zero elements: 294912\n",
      "base.6.0.bn1.weight: torch.Size([256]), non-zero elements: 256\n",
      "base.6.0.conv2.weight: torch.Size([256, 256, 3, 3]), non-zero elements: 589824\n",
      "base.6.0.bn2.weight: torch.Size([256]), non-zero elements: 256\n",
      "base.6.0.downsample.0.weight: torch.Size([256, 128, 1, 1]), non-zero elements: 32768\n",
      "base.6.0.downsample.1.weight: torch.Size([256]), non-zero elements: 256\n",
      "base.6.1.conv1.weight: torch.Size([256, 256, 3, 3]), non-zero elements: 589824\n",
      "base.6.1.bn1.weight: torch.Size([256]), non-zero elements: 256\n",
      "base.6.1.conv2.weight: torch.Size([256, 256, 3, 3]), non-zero elements: 589824\n",
      "base.6.1.bn2.weight: torch.Size([256]), non-zero elements: 256\n",
      "base.7.0.conv1.weight: torch.Size([512, 256, 3, 3]), non-zero elements: 1179648\n",
      "base.7.0.bn1.weight: torch.Size([512]), non-zero elements: 512\n",
      "base.7.0.conv2.weight: torch.Size([512, 512, 3, 3]), non-zero elements: 2359296\n",
      "base.7.0.bn2.weight: torch.Size([512]), non-zero elements: 512\n",
      "base.7.0.downsample.0.weight: torch.Size([512, 256, 1, 1]), non-zero elements: 131072\n",
      "base.7.0.downsample.1.weight: torch.Size([512]), non-zero elements: 512\n",
      "base.7.1.conv1.weight: torch.Size([512, 512, 3, 3]), non-zero elements: 2359296\n",
      "base.7.1.bn1.weight: torch.Size([512]), non-zero elements: 512\n",
      "base.7.1.conv2.weight: torch.Size([512, 512, 3, 3]), non-zero elements: 2359296\n",
      "base.7.1.bn2.weight: torch.Size([512]), non-zero elements: 512\n",
      "final.weight: torch.Size([10, 512]), non-zero elements: 5120\n"
     ]
    }
   ],
   "source": [
    "for name, param in model.named_parameters():\n",
    "    if 'weight' in name:\n",
    "        print(f'{name}: {param.shape}, non-zero elements: {torch.nonzero(param).shape[0]}')"
   ]
  },
  {
   "cell_type": "code",
   "execution_count": 21,
   "metadata": {},
   "outputs": [
    {
     "name": "stdout",
     "output_type": "stream",
     "text": [
      "base.0.weight: torch.Size([64, 3, 7, 7]), non-zero elements: 7994\n",
      "base.1.weight: torch.Size([64]), non-zero elements: 56\n",
      "base.4.0.conv1.weight: torch.Size([64, 64, 3, 3]), non-zero elements: 30611\n",
      "base.4.0.bn1.weight: torch.Size([64]), non-zero elements: 64\n",
      "base.4.0.conv2.weight: torch.Size([64, 64, 3, 3]), non-zero elements: 34926\n",
      "base.4.0.bn2.weight: torch.Size([64]), non-zero elements: 64\n",
      "base.4.1.conv1.weight: torch.Size([64, 64, 3, 3]), non-zero elements: 35038\n",
      "base.4.1.bn1.weight: torch.Size([64]), non-zero elements: 64\n",
      "base.4.1.conv2.weight: torch.Size([64, 64, 3, 3]), non-zero elements: 35004\n",
      "base.4.1.bn2.weight: torch.Size([64]), non-zero elements: 64\n",
      "base.5.0.conv1.weight: torch.Size([128, 64, 3, 3]), non-zero elements: 69634\n",
      "base.5.0.bn1.weight: torch.Size([128]), non-zero elements: 128\n",
      "base.5.0.conv2.weight: torch.Size([128, 128, 3, 3]), non-zero elements: 137957\n",
      "base.5.0.bn2.weight: torch.Size([128]), non-zero elements: 128\n",
      "base.5.0.downsample.0.weight: torch.Size([128, 64, 1, 1]), non-zero elements: 7846\n",
      "base.5.0.downsample.1.weight: torch.Size([128]), non-zero elements: 128\n",
      "base.5.1.conv1.weight: torch.Size([128, 128, 3, 3]), non-zero elements: 138107\n",
      "base.5.1.bn1.weight: torch.Size([128]), non-zero elements: 128\n",
      "base.5.1.conv2.weight: torch.Size([128, 128, 3, 3]), non-zero elements: 137646\n",
      "base.5.1.bn2.weight: torch.Size([128]), non-zero elements: 128\n",
      "base.6.0.conv1.weight: torch.Size([256, 128, 3, 3]), non-zero elements: 273678\n",
      "base.6.0.bn1.weight: torch.Size([256]), non-zero elements: 256\n",
      "base.6.0.conv2.weight: torch.Size([256, 256, 3, 3]), non-zero elements: 542778\n",
      "base.6.0.bn2.weight: torch.Size([256]), non-zero elements: 256\n",
      "base.6.0.downsample.0.weight: torch.Size([256, 128, 1, 1]), non-zero elements: 30633\n",
      "base.6.0.downsample.1.weight: torch.Size([256]), non-zero elements: 256\n",
      "base.6.1.conv1.weight: torch.Size([256, 256, 3, 3]), non-zero elements: 539001\n",
      "base.6.1.bn1.weight: torch.Size([256]), non-zero elements: 256\n",
      "base.6.1.conv2.weight: torch.Size([256, 256, 3, 3]), non-zero elements: 535460\n",
      "base.6.1.bn2.weight: torch.Size([256]), non-zero elements: 256\n",
      "base.7.0.conv1.weight: torch.Size([512, 256, 3, 3]), non-zero elements: 1072213\n",
      "base.7.0.bn1.weight: torch.Size([512]), non-zero elements: 512\n",
      "base.7.0.conv2.weight: torch.Size([512, 512, 3, 3]), non-zero elements: 2120872\n",
      "base.7.0.bn2.weight: torch.Size([512]), non-zero elements: 512\n",
      "base.7.0.downsample.0.weight: torch.Size([512, 256, 1, 1]), non-zero elements: 122786\n",
      "base.7.0.downsample.1.weight: torch.Size([512]), non-zero elements: 512\n",
      "base.7.1.conv1.weight: torch.Size([512, 512, 3, 3]), non-zero elements: 2134300\n",
      "base.7.1.bn1.weight: torch.Size([512]), non-zero elements: 512\n",
      "base.7.1.conv2.weight: torch.Size([512, 512, 3, 3]), non-zero elements: 2042809\n",
      "base.7.1.bn2.weight: torch.Size([512]), non-zero elements: 512\n",
      "final.weight: torch.Size([10, 512]), non-zero elements: 5120\n"
     ]
    }
   ],
   "source": [
    "for name, param in compressed_model1.named_parameters():\n",
    "    if 'weight' in name:\n",
    "        print(f'{name}: {param.shape}, non-zero elements: {torch.nonzero(param).shape[0]}')"
   ]
  },
  {
   "cell_type": "code",
   "execution_count": 22,
   "metadata": {},
   "outputs": [
    {
     "name": "stdout",
     "output_type": "stream",
     "text": [
      "base.0.weight: torch.Size([64, 3, 7, 7]), non-zero elements: 7518\n",
      "base.1.weight: torch.Size([64]), non-zero elements: 56\n",
      "base.4.0.conv1.weight: torch.Size([64, 64, 3, 3]), non-zero elements: 27285\n",
      "base.4.0.bn1.weight: torch.Size([64]), non-zero elements: 64\n",
      "base.4.0.conv2.weight: torch.Size([64, 64, 3, 3]), non-zero elements: 31134\n",
      "base.4.0.bn2.weight: torch.Size([64]), non-zero elements: 64\n",
      "base.4.1.conv1.weight: torch.Size([64, 64, 3, 3]), non-zero elements: 31316\n",
      "base.4.1.bn1.weight: torch.Size([64]), non-zero elements: 64\n",
      "base.4.1.conv2.weight: torch.Size([64, 64, 3, 3]), non-zero elements: 31190\n",
      "base.4.1.bn2.weight: torch.Size([64]), non-zero elements: 64\n",
      "base.5.0.conv1.weight: torch.Size([128, 64, 3, 3]), non-zero elements: 61195\n",
      "base.5.0.bn1.weight: torch.Size([128]), non-zero elements: 128\n",
      "base.5.0.conv2.weight: torch.Size([128, 128, 3, 3]), non-zero elements: 118179\n",
      "base.5.0.bn2.weight: torch.Size([128]), non-zero elements: 128\n",
      "base.5.0.downsample.0.weight: torch.Size([128, 64, 1, 1]), non-zero elements: 7169\n",
      "base.5.0.downsample.1.weight: torch.Size([128]), non-zero elements: 127\n",
      "base.5.1.conv1.weight: torch.Size([128, 128, 3, 3]), non-zero elements: 118717\n",
      "base.5.1.bn1.weight: torch.Size([128]), non-zero elements: 128\n",
      "base.5.1.conv2.weight: torch.Size([128, 128, 3, 3]), non-zero elements: 117598\n",
      "base.5.1.bn2.weight: torch.Size([128]), non-zero elements: 128\n",
      "base.6.0.conv1.weight: torch.Size([256, 128, 3, 3]), non-zero elements: 230191\n",
      "base.6.0.bn1.weight: torch.Size([256]), non-zero elements: 256\n",
      "base.6.0.conv2.weight: torch.Size([256, 256, 3, 3]), non-zero elements: 447263\n",
      "base.6.0.bn2.weight: torch.Size([256]), non-zero elements: 256\n",
      "base.6.0.downsample.0.weight: torch.Size([256, 128, 1, 1]), non-zero elements: 26267\n",
      "base.6.0.downsample.1.weight: torch.Size([256]), non-zero elements: 256\n",
      "base.6.1.conv1.weight: torch.Size([256, 256, 3, 3]), non-zero elements: 436109\n",
      "base.6.1.bn1.weight: torch.Size([256]), non-zero elements: 256\n",
      "base.6.1.conv2.weight: torch.Size([256, 256, 3, 3]), non-zero elements: 425582\n",
      "base.6.1.bn2.weight: torch.Size([256]), non-zero elements: 256\n",
      "base.7.0.conv1.weight: torch.Size([512, 256, 3, 3]), non-zero elements: 854736\n",
      "base.7.0.bn1.weight: torch.Size([512]), non-zero elements: 512\n",
      "base.7.0.conv2.weight: torch.Size([512, 512, 3, 3]), non-zero elements: 1637947\n",
      "base.7.0.bn2.weight: torch.Size([512]), non-zero elements: 512\n",
      "base.7.0.downsample.0.weight: torch.Size([512, 256, 1, 1]), non-zero elements: 105995\n",
      "base.7.0.downsample.1.weight: torch.Size([512]), non-zero elements: 512\n",
      "base.7.1.conv1.weight: torch.Size([512, 512, 3, 3]), non-zero elements: 1677065\n",
      "base.7.1.bn1.weight: torch.Size([512]), non-zero elements: 512\n",
      "base.7.1.conv2.weight: torch.Size([512, 512, 3, 3]), non-zero elements: 1421586\n",
      "base.7.1.bn2.weight: torch.Size([512]), non-zero elements: 512\n",
      "final.weight: torch.Size([10, 512]), non-zero elements: 5120\n"
     ]
    }
   ],
   "source": [
    "for name, param in compressed_model2.named_parameters():\n",
    "    if 'weight' in name:\n",
    "        print(f'{name}: {param.shape}, non-zero elements: {torch.nonzero(param).shape[0]}')"
   ]
  },
  {
   "cell_type": "code",
   "execution_count": 23,
   "metadata": {},
   "outputs": [
    {
     "name": "stdout",
     "output_type": "stream",
     "text": [
      "base.0.weight: torch.Size([64, 3, 7, 7]), non-zero elements: 6947\n",
      "base.1.weight: torch.Size([64]), non-zero elements: 56\n",
      "base.4.0.conv1.weight: torch.Size([64, 64, 3, 3]), non-zero elements: 23624\n",
      "base.4.0.bn1.weight: torch.Size([64]), non-zero elements: 64\n",
      "base.4.0.conv2.weight: torch.Size([64, 64, 3, 3]), non-zero elements: 26872\n",
      "base.4.0.bn2.weight: torch.Size([64]), non-zero elements: 64\n",
      "base.4.1.conv1.weight: torch.Size([64, 64, 3, 3]), non-zero elements: 27315\n",
      "base.4.1.bn1.weight: torch.Size([64]), non-zero elements: 64\n",
      "base.4.1.conv2.weight: torch.Size([64, 64, 3, 3]), non-zero elements: 27017\n",
      "base.4.1.bn2.weight: torch.Size([64]), non-zero elements: 64\n",
      "base.5.0.conv1.weight: torch.Size([128, 64, 3, 3]), non-zero elements: 52170\n",
      "base.5.0.bn1.weight: torch.Size([128]), non-zero elements: 128\n",
      "base.5.0.conv2.weight: torch.Size([128, 128, 3, 3]), non-zero elements: 97162\n",
      "base.5.0.bn2.weight: torch.Size([128]), non-zero elements: 128\n",
      "base.5.0.downsample.0.weight: torch.Size([128, 64, 1, 1]), non-zero elements: 6404\n",
      "base.5.0.downsample.1.weight: torch.Size([128]), non-zero elements: 127\n",
      "base.5.1.conv1.weight: torch.Size([128, 128, 3, 3]), non-zero elements: 97839\n",
      "base.5.1.bn1.weight: torch.Size([128]), non-zero elements: 128\n",
      "base.5.1.conv2.weight: torch.Size([128, 128, 3, 3]), non-zero elements: 96274\n",
      "base.5.1.bn2.weight: torch.Size([128]), non-zero elements: 128\n",
      "base.6.0.conv1.weight: torch.Size([256, 128, 3, 3]), non-zero elements: 183993\n",
      "base.6.0.bn1.weight: torch.Size([256]), non-zero elements: 256\n",
      "base.6.0.conv2.weight: torch.Size([256, 256, 3, 3]), non-zero elements: 346674\n",
      "base.6.0.bn2.weight: torch.Size([256]), non-zero elements: 256\n",
      "base.6.0.downsample.0.weight: torch.Size([256, 128, 1, 1]), non-zero elements: 21655\n",
      "base.6.0.downsample.1.weight: torch.Size([256]), non-zero elements: 256\n",
      "base.6.1.conv1.weight: torch.Size([256, 256, 3, 3]), non-zero elements: 328914\n",
      "base.6.1.bn1.weight: torch.Size([256]), non-zero elements: 256\n",
      "base.6.1.conv2.weight: torch.Size([256, 256, 3, 3]), non-zero elements: 314127\n",
      "base.6.1.bn2.weight: torch.Size([256]), non-zero elements: 256\n",
      "base.7.0.conv1.weight: torch.Size([512, 256, 3, 3]), non-zero elements: 629679\n",
      "base.7.0.bn1.weight: torch.Size([512]), non-zero elements: 512\n",
      "base.7.0.conv2.weight: torch.Size([512, 512, 3, 3]), non-zero elements: 1148500\n",
      "base.7.0.bn2.weight: torch.Size([512]), non-zero elements: 512\n",
      "base.7.0.downsample.0.weight: torch.Size([512, 256, 1, 1]), non-zero elements: 87625\n",
      "base.7.0.downsample.1.weight: torch.Size([512]), non-zero elements: 512\n",
      "base.7.1.conv1.weight: torch.Size([512, 512, 3, 3]), non-zero elements: 1207931\n",
      "base.7.1.bn1.weight: torch.Size([512]), non-zero elements: 512\n",
      "base.7.1.conv2.weight: torch.Size([512, 512, 3, 3]), non-zero elements: 848078\n",
      "base.7.1.bn2.weight: torch.Size([512]), non-zero elements: 512\n",
      "final.weight: torch.Size([10, 512]), non-zero elements: 5120\n"
     ]
    }
   ],
   "source": [
    "for name, param in compressed_model3.named_parameters():\n",
    "    if 'weight' in name:\n",
    "        print(f'{name}: {param.shape}, non-zero elements: {torch.nonzero(param).shape[0]}')"
   ]
  },
  {
   "cell_type": "code",
   "execution_count": 24,
   "metadata": {},
   "outputs": [
    {
     "name": "stdout",
     "output_type": "stream",
     "text": [
      "base.0.weight: torch.Size([64, 3, 7, 7]), non-zero elements: 6258\n",
      "base.1.weight: torch.Size([64]), non-zero elements: 56\n",
      "base.4.0.conv1.weight: torch.Size([64, 64, 3, 3]), non-zero elements: 19237\n",
      "base.4.0.bn1.weight: torch.Size([64]), non-zero elements: 64\n",
      "base.4.0.conv2.weight: torch.Size([64, 64, 3, 3]), non-zero elements: 21690\n",
      "base.4.0.bn2.weight: torch.Size([64]), non-zero elements: 64\n",
      "base.4.1.conv1.weight: torch.Size([64, 64, 3, 3]), non-zero elements: 22458\n",
      "base.4.1.bn1.weight: torch.Size([64]), non-zero elements: 64\n",
      "base.4.1.conv2.weight: torch.Size([64, 64, 3, 3]), non-zero elements: 21947\n",
      "base.4.1.bn2.weight: torch.Size([64]), non-zero elements: 64\n",
      "base.5.0.conv1.weight: torch.Size([128, 64, 3, 3]), non-zero elements: 41417\n",
      "base.5.0.bn1.weight: torch.Size([128]), non-zero elements: 128\n",
      "base.5.0.conv2.weight: torch.Size([128, 128, 3, 3]), non-zero elements: 72425\n",
      "base.5.0.bn2.weight: torch.Size([128]), non-zero elements: 128\n",
      "base.5.0.downsample.0.weight: torch.Size([128, 64, 1, 1]), non-zero elements: 5425\n",
      "base.5.0.downsample.1.weight: torch.Size([128]), non-zero elements: 127\n",
      "base.5.1.conv1.weight: torch.Size([128, 128, 3, 3]), non-zero elements: 73663\n",
      "base.5.1.bn1.weight: torch.Size([128]), non-zero elements: 128\n",
      "base.5.1.conv2.weight: torch.Size([128, 128, 3, 3]), non-zero elements: 71097\n",
      "base.5.1.bn2.weight: torch.Size([128]), non-zero elements: 128\n",
      "base.6.0.conv1.weight: torch.Size([256, 128, 3, 3]), non-zero elements: 132088\n",
      "base.6.0.bn1.weight: torch.Size([256]), non-zero elements: 256\n",
      "base.6.0.conv2.weight: torch.Size([256, 256, 3, 3]), non-zero elements: 235662\n",
      "base.6.0.bn2.weight: torch.Size([256]), non-zero elements: 256\n",
      "base.6.0.downsample.0.weight: torch.Size([256, 128, 1, 1]), non-zero elements: 16303\n",
      "base.6.0.downsample.1.weight: torch.Size([256]), non-zero elements: 256\n",
      "base.6.1.conv1.weight: torch.Size([256, 256, 3, 3]), non-zero elements: 213542\n",
      "base.6.1.bn1.weight: torch.Size([256]), non-zero elements: 256\n",
      "base.6.1.conv2.weight: torch.Size([256, 256, 3, 3]), non-zero elements: 196993\n",
      "base.6.1.bn2.weight: torch.Size([256]), non-zero elements: 256\n",
      "base.7.0.conv1.weight: torch.Size([512, 256, 3, 3]), non-zero elements: 391691\n",
      "base.7.0.bn1.weight: torch.Size([512]), non-zero elements: 512\n",
      "base.7.0.conv2.weight: torch.Size([512, 512, 3, 3]), non-zero elements: 652741\n",
      "base.7.0.bn2.weight: torch.Size([512]), non-zero elements: 512\n",
      "base.7.0.downsample.0.weight: torch.Size([512, 256, 1, 1]), non-zero elements: 66095\n",
      "base.7.0.downsample.1.weight: torch.Size([512]), non-zero elements: 512\n",
      "base.7.1.conv1.weight: torch.Size([512, 512, 3, 3]), non-zero elements: 714995\n",
      "base.7.1.bn1.weight: torch.Size([512]), non-zero elements: 512\n",
      "base.7.1.conv2.weight: torch.Size([512, 512, 3, 3]), non-zero elements: 367854\n",
      "base.7.1.bn2.weight: torch.Size([512]), non-zero elements: 512\n",
      "final.weight: torch.Size([10, 512]), non-zero elements: 5120\n"
     ]
    }
   ],
   "source": [
    "for name, param in compressed_model4.named_parameters():\n",
    "    if 'weight' in name:\n",
    "        print(f'{name}: {param.shape}, non-zero elements: {torch.nonzero(param).shape[0]}')"
   ]
  },
  {
   "cell_type": "code",
   "execution_count": 25,
   "metadata": {},
   "outputs": [
    {
     "name": "stdout",
     "output_type": "stream",
     "text": [
      "base.0.weight: torch.Size([64, 3, 7, 7]), non-zero elements: 5114\n",
      "base.1.weight: torch.Size([64]), non-zero elements: 56\n",
      "base.4.0.conv1.weight: torch.Size([64, 64, 3, 3]), non-zero elements: 12627\n",
      "base.4.0.bn1.weight: torch.Size([64]), non-zero elements: 64\n",
      "base.4.0.conv2.weight: torch.Size([64, 64, 3, 3]), non-zero elements: 13876\n",
      "base.4.0.bn2.weight: torch.Size([64]), non-zero elements: 64\n",
      "base.4.1.conv1.weight: torch.Size([64, 64, 3, 3]), non-zero elements: 14625\n",
      "base.4.1.bn1.weight: torch.Size([64]), non-zero elements: 64\n",
      "base.4.1.conv2.weight: torch.Size([64, 64, 3, 3]), non-zero elements: 13908\n",
      "base.4.1.bn2.weight: torch.Size([64]), non-zero elements: 64\n",
      "base.5.0.conv1.weight: torch.Size([128, 64, 3, 3]), non-zero elements: 25141\n",
      "base.5.0.bn1.weight: torch.Size([128]), non-zero elements: 128\n",
      "base.5.0.conv2.weight: torch.Size([128, 128, 3, 3]), non-zero elements: 38282\n",
      "base.5.0.bn2.weight: torch.Size([128]), non-zero elements: 128\n",
      "base.5.0.downsample.0.weight: torch.Size([128, 64, 1, 1]), non-zero elements: 3792\n",
      "base.5.0.downsample.1.weight: torch.Size([128]), non-zero elements: 127\n",
      "base.5.1.conv1.weight: torch.Size([128, 128, 3, 3]), non-zero elements: 39635\n",
      "base.5.1.bn1.weight: torch.Size([128]), non-zero elements: 128\n",
      "base.5.1.conv2.weight: torch.Size([128, 128, 3, 3]), non-zero elements: 36128\n",
      "base.5.1.bn2.weight: torch.Size([128]), non-zero elements: 128\n",
      "base.6.0.conv1.weight: torch.Size([256, 128, 3, 3]), non-zero elements: 63279\n",
      "base.6.0.bn1.weight: torch.Size([256]), non-zero elements: 256\n",
      "base.6.0.conv2.weight: torch.Size([256, 256, 3, 3]), non-zero elements: 99217\n",
      "base.6.0.bn2.weight: torch.Size([256]), non-zero elements: 256\n",
      "base.6.0.downsample.0.weight: torch.Size([256, 128, 1, 1]), non-zero elements: 8567\n",
      "base.6.0.downsample.1.weight: torch.Size([256]), non-zero elements: 244\n",
      "base.6.1.conv1.weight: torch.Size([256, 256, 3, 3]), non-zero elements: 80460\n",
      "base.6.1.bn1.weight: torch.Size([256]), non-zero elements: 256\n",
      "base.6.1.conv2.weight: torch.Size([256, 256, 3, 3]), non-zero elements: 68825\n",
      "base.6.1.bn2.weight: torch.Size([256]), non-zero elements: 256\n",
      "base.7.0.conv1.weight: torch.Size([512, 256, 3, 3]), non-zero elements: 127801\n",
      "base.7.0.bn1.weight: torch.Size([512]), non-zero elements: 512\n",
      "base.7.0.conv2.weight: torch.Size([512, 512, 3, 3]), non-zero elements: 168738\n",
      "base.7.0.bn2.weight: torch.Size([512]), non-zero elements: 512\n",
      "base.7.0.downsample.0.weight: torch.Size([512, 256, 1, 1]), non-zero elements: 35577\n",
      "base.7.0.downsample.1.weight: torch.Size([512]), non-zero elements: 512\n",
      "base.7.1.conv1.weight: torch.Size([512, 512, 3, 3]), non-zero elements: 194778\n",
      "base.7.1.bn1.weight: torch.Size([512]), non-zero elements: 512\n",
      "base.7.1.conv2.weight: torch.Size([512, 512, 3, 3]), non-zero elements: 58063\n",
      "base.7.1.bn2.weight: torch.Size([512]), non-zero elements: 512\n",
      "final.weight: torch.Size([10, 512]), non-zero elements: 5120\n"
     ]
    }
   ],
   "source": [
    "for name, param in compressed_model5.named_parameters():\n",
    "    if 'weight' in name:\n",
    "        print(f'{name}: {param.shape}, non-zero elements: {torch.nonzero(param).shape[0]}')"
   ]
  },
  {
   "cell_type": "code",
   "execution_count": null,
   "metadata": {},
   "outputs": [],
   "source": []
  }
 ],
 "metadata": {
  "accelerator": "GPU",
  "colab": {
   "provenance": []
  },
  "gpuClass": "standard",
  "kernelspec": {
   "display_name": "Python [conda env:pytorch]",
   "language": "python",
   "name": "conda-env-pytorch-py"
  },
  "language_info": {
   "codemirror_mode": {
    "name": "ipython",
    "version": 3
   },
   "file_extension": ".py",
   "mimetype": "text/x-python",
   "name": "python",
   "nbconvert_exporter": "python",
   "pygments_lexer": "ipython3",
   "version": "3.9.18"
  },
  "widgets": {
   "application/vnd.jupyter.widget-state+json": {
    "1169367ddd9d4778b3f657f67adb4c6f": {
     "model_module": "@jupyter-widgets/controls",
     "model_module_version": "1.5.0",
     "model_name": "DescriptionStyleModel",
     "state": {
      "_model_module": "@jupyter-widgets/controls",
      "_model_module_version": "1.5.0",
      "_model_name": "DescriptionStyleModel",
      "_view_count": null,
      "_view_module": "@jupyter-widgets/base",
      "_view_module_version": "1.2.0",
      "_view_name": "StyleView",
      "description_width": ""
     }
    },
    "1acd9f1d0347470e9ebc8077c477c3a3": {
     "model_module": "@jupyter-widgets/controls",
     "model_module_version": "1.5.0",
     "model_name": "FloatProgressModel",
     "state": {
      "_dom_classes": [],
      "_model_module": "@jupyter-widgets/controls",
      "_model_module_version": "1.5.0",
      "_model_name": "FloatProgressModel",
      "_view_count": null,
      "_view_module": "@jupyter-widgets/controls",
      "_view_module_version": "1.5.0",
      "_view_name": "ProgressView",
      "bar_style": "success",
      "description": "",
      "description_tooltip": null,
      "layout": "IPY_MODEL_ceda326cb22e4a6088dfce8df8b57341",
      "max": 170498071,
      "min": 0,
      "orientation": "horizontal",
      "style": "IPY_MODEL_7c8d626085734c10a6d6b7b6e525e638",
      "value": 170498071
     }
    },
    "1b982d72d0cd468eb2ef0a55be175454": {
     "model_module": "@jupyter-widgets/controls",
     "model_module_version": "1.5.0",
     "model_name": "HTMLModel",
     "state": {
      "_dom_classes": [],
      "_model_module": "@jupyter-widgets/controls",
      "_model_module_version": "1.5.0",
      "_model_name": "HTMLModel",
      "_view_count": null,
      "_view_module": "@jupyter-widgets/controls",
      "_view_module_version": "1.5.0",
      "_view_name": "HTMLView",
      "description": "",
      "description_tooltip": null,
      "layout": "IPY_MODEL_ea215878be24415a9e6a21f8a4f0bef8",
      "placeholder": "​",
      "style": "IPY_MODEL_44fca097bcc74f3d8c783202ccd67f2e",
      "value": " 170498071/170498071 [00:03&lt;00:00, 50471690.78it/s]"
     }
    },
    "2488c40391914a1c935ee47692514a50": {
     "model_module": "@jupyter-widgets/controls",
     "model_module_version": "1.5.0",
     "model_name": "HTMLModel",
     "state": {
      "_dom_classes": [],
      "_model_module": "@jupyter-widgets/controls",
      "_model_module_version": "1.5.0",
      "_model_name": "HTMLModel",
      "_view_count": null,
      "_view_module": "@jupyter-widgets/controls",
      "_view_module_version": "1.5.0",
      "_view_name": "HTMLView",
      "description": "",
      "description_tooltip": null,
      "layout": "IPY_MODEL_3a0aac091a1c41c5b5173157a01ca010",
      "placeholder": "​",
      "style": "IPY_MODEL_1169367ddd9d4778b3f657f67adb4c6f",
      "value": "100%"
     }
    },
    "3a0aac091a1c41c5b5173157a01ca010": {
     "model_module": "@jupyter-widgets/base",
     "model_module_version": "1.2.0",
     "model_name": "LayoutModel",
     "state": {
      "_model_module": "@jupyter-widgets/base",
      "_model_module_version": "1.2.0",
      "_model_name": "LayoutModel",
      "_view_count": null,
      "_view_module": "@jupyter-widgets/base",
      "_view_module_version": "1.2.0",
      "_view_name": "LayoutView",
      "align_content": null,
      "align_items": null,
      "align_self": null,
      "border": null,
      "bottom": null,
      "display": null,
      "flex": null,
      "flex_flow": null,
      "grid_area": null,
      "grid_auto_columns": null,
      "grid_auto_flow": null,
      "grid_auto_rows": null,
      "grid_column": null,
      "grid_gap": null,
      "grid_row": null,
      "grid_template_areas": null,
      "grid_template_columns": null,
      "grid_template_rows": null,
      "height": null,
      "justify_content": null,
      "justify_items": null,
      "left": null,
      "margin": null,
      "max_height": null,
      "max_width": null,
      "min_height": null,
      "min_width": null,
      "object_fit": null,
      "object_position": null,
      "order": null,
      "overflow": null,
      "overflow_x": null,
      "overflow_y": null,
      "padding": null,
      "right": null,
      "top": null,
      "visibility": null,
      "width": null
     }
    },
    "3fb6994c8c8b46468a268c7004487425": {
     "model_module": "@jupyter-widgets/base",
     "model_module_version": "1.2.0",
     "model_name": "LayoutModel",
     "state": {
      "_model_module": "@jupyter-widgets/base",
      "_model_module_version": "1.2.0",
      "_model_name": "LayoutModel",
      "_view_count": null,
      "_view_module": "@jupyter-widgets/base",
      "_view_module_version": "1.2.0",
      "_view_name": "LayoutView",
      "align_content": null,
      "align_items": null,
      "align_self": null,
      "border": null,
      "bottom": null,
      "display": null,
      "flex": null,
      "flex_flow": null,
      "grid_area": null,
      "grid_auto_columns": null,
      "grid_auto_flow": null,
      "grid_auto_rows": null,
      "grid_column": null,
      "grid_gap": null,
      "grid_row": null,
      "grid_template_areas": null,
      "grid_template_columns": null,
      "grid_template_rows": null,
      "height": null,
      "justify_content": null,
      "justify_items": null,
      "left": null,
      "margin": null,
      "max_height": null,
      "max_width": null,
      "min_height": null,
      "min_width": null,
      "object_fit": null,
      "object_position": null,
      "order": null,
      "overflow": null,
      "overflow_x": null,
      "overflow_y": null,
      "padding": null,
      "right": null,
      "top": null,
      "visibility": null,
      "width": null
     }
    },
    "44fca097bcc74f3d8c783202ccd67f2e": {
     "model_module": "@jupyter-widgets/controls",
     "model_module_version": "1.5.0",
     "model_name": "DescriptionStyleModel",
     "state": {
      "_model_module": "@jupyter-widgets/controls",
      "_model_module_version": "1.5.0",
      "_model_name": "DescriptionStyleModel",
      "_view_count": null,
      "_view_module": "@jupyter-widgets/base",
      "_view_module_version": "1.2.0",
      "_view_name": "StyleView",
      "description_width": ""
     }
    },
    "4ac3c3a4b54e4c398ad2c4960d9b1f02": {
     "model_module": "@jupyter-widgets/controls",
     "model_module_version": "1.5.0",
     "model_name": "HBoxModel",
     "state": {
      "_dom_classes": [],
      "_model_module": "@jupyter-widgets/controls",
      "_model_module_version": "1.5.0",
      "_model_name": "HBoxModel",
      "_view_count": null,
      "_view_module": "@jupyter-widgets/controls",
      "_view_module_version": "1.5.0",
      "_view_name": "HBoxView",
      "box_style": "",
      "children": [
       "IPY_MODEL_2488c40391914a1c935ee47692514a50",
       "IPY_MODEL_1acd9f1d0347470e9ebc8077c477c3a3",
       "IPY_MODEL_1b982d72d0cd468eb2ef0a55be175454"
      ],
      "layout": "IPY_MODEL_3fb6994c8c8b46468a268c7004487425"
     }
    },
    "7c8d626085734c10a6d6b7b6e525e638": {
     "model_module": "@jupyter-widgets/controls",
     "model_module_version": "1.5.0",
     "model_name": "ProgressStyleModel",
     "state": {
      "_model_module": "@jupyter-widgets/controls",
      "_model_module_version": "1.5.0",
      "_model_name": "ProgressStyleModel",
      "_view_count": null,
      "_view_module": "@jupyter-widgets/base",
      "_view_module_version": "1.2.0",
      "_view_name": "StyleView",
      "bar_color": null,
      "description_width": ""
     }
    },
    "ceda326cb22e4a6088dfce8df8b57341": {
     "model_module": "@jupyter-widgets/base",
     "model_module_version": "1.2.0",
     "model_name": "LayoutModel",
     "state": {
      "_model_module": "@jupyter-widgets/base",
      "_model_module_version": "1.2.0",
      "_model_name": "LayoutModel",
      "_view_count": null,
      "_view_module": "@jupyter-widgets/base",
      "_view_module_version": "1.2.0",
      "_view_name": "LayoutView",
      "align_content": null,
      "align_items": null,
      "align_self": null,
      "border": null,
      "bottom": null,
      "display": null,
      "flex": null,
      "flex_flow": null,
      "grid_area": null,
      "grid_auto_columns": null,
      "grid_auto_flow": null,
      "grid_auto_rows": null,
      "grid_column": null,
      "grid_gap": null,
      "grid_row": null,
      "grid_template_areas": null,
      "grid_template_columns": null,
      "grid_template_rows": null,
      "height": null,
      "justify_content": null,
      "justify_items": null,
      "left": null,
      "margin": null,
      "max_height": null,
      "max_width": null,
      "min_height": null,
      "min_width": null,
      "object_fit": null,
      "object_position": null,
      "order": null,
      "overflow": null,
      "overflow_x": null,
      "overflow_y": null,
      "padding": null,
      "right": null,
      "top": null,
      "visibility": null,
      "width": null
     }
    },
    "ea215878be24415a9e6a21f8a4f0bef8": {
     "model_module": "@jupyter-widgets/base",
     "model_module_version": "1.2.0",
     "model_name": "LayoutModel",
     "state": {
      "_model_module": "@jupyter-widgets/base",
      "_model_module_version": "1.2.0",
      "_model_name": "LayoutModel",
      "_view_count": null,
      "_view_module": "@jupyter-widgets/base",
      "_view_module_version": "1.2.0",
      "_view_name": "LayoutView",
      "align_content": null,
      "align_items": null,
      "align_self": null,
      "border": null,
      "bottom": null,
      "display": null,
      "flex": null,
      "flex_flow": null,
      "grid_area": null,
      "grid_auto_columns": null,
      "grid_auto_flow": null,
      "grid_auto_rows": null,
      "grid_column": null,
      "grid_gap": null,
      "grid_row": null,
      "grid_template_areas": null,
      "grid_template_columns": null,
      "grid_template_rows": null,
      "height": null,
      "justify_content": null,
      "justify_items": null,
      "left": null,
      "margin": null,
      "max_height": null,
      "max_width": null,
      "min_height": null,
      "min_width": null,
      "object_fit": null,
      "object_position": null,
      "order": null,
      "overflow": null,
      "overflow_x": null,
      "overflow_y": null,
      "padding": null,
      "right": null,
      "top": null,
      "visibility": null,
      "width": null
     }
    }
   }
  }
 },
 "nbformat": 4,
 "nbformat_minor": 1
}
