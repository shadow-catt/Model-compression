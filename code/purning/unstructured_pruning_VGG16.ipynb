{
 "cells": [
  {
   "cell_type": "code",
   "execution_count": 1,
   "id": "265ef501",
   "metadata": {},
   "outputs": [],
   "source": [
    "import torch\n",
    "import torchvision\n",
    "import torchvision.transforms as transforms\n",
    "import torch.nn as nn\n",
    "import torch.optim as optim\n",
    "import torch.nn.functional as F\n",
    "import numpy as np\n",
    "import matplotlib.pyplot as plt\n",
    "from torchvision.models import vgg16\n",
    "import copy\n",
    "import tqdm\n",
    "import os\n",
    "import matplotlib\n",
    "import pandas as pd\n",
    "from torchsummary import summary\n",
    "from timeit import default_timer as timer\n",
    "import copy"
   ]
  },
  {
   "cell_type": "code",
   "execution_count": 2,
   "id": "2eb9d444",
   "metadata": {},
   "outputs": [
    {
     "name": "stdout",
     "output_type": "stream",
     "text": [
      "Files already downloaded and verified\n",
      "Files already downloaded and verified\n"
     ]
    }
   ],
   "source": [
    "transform_train = transforms.Compose(\n",
    "    [transforms.Pad(4),\n",
    "     transforms.ToTensor(),\n",
    "     transforms.Normalize((0.485, 0.456, 0.406), (0.229, 0.224, 0.225)),\n",
    "     transforms.RandomHorizontalFlip(),\n",
    "     transforms.RandomGrayscale(),\n",
    "     transforms.RandomCrop(32, padding=4),\n",
    "])\n",
    " \n",
    "transform_test = transforms.Compose(\n",
    "    [\n",
    "     transforms.ToTensor(),\n",
    "     transforms.Normalize((0.485, 0.456, 0.406), (0.229, 0.224, 0.225))]\n",
    ")\n",
    " \n",
    "device = torch.device(\"cpu\")\n",
    " \n",
    "trainset = torchvision.datasets.CIFAR10(root='./data', train=True, download=True, transform=transform_train)\n",
    "trainLoader = torch.utils.data.DataLoader(trainset, batch_size=24, shuffle=True)\n",
    " \n",
    "testset = torchvision.datasets.CIFAR10(root='./data', train=False, download=True, transform=transform_test)\n",
    "testLoader = torch.utils.data.DataLoader(testset, batch_size=24, shuffle=False)"
   ]
  },
  {
   "cell_type": "code",
   "execution_count": 3,
   "id": "d622a46e",
   "metadata": {},
   "outputs": [],
   "source": [
    "num_epochs = 40\n",
    "total = 0\n",
    "accuracy_rate = []\n",
    " \n",
    "def test():\n",
    "    model.eval()\n",
    "    correct = 0  # 预测正确的图片数\n",
    "    total = 0  # total number of pictures\n",
    "    with torch.no_grad():\n",
    "        for data in testLoader:\n",
    "            images, labels = data\n",
    "            images = images.to(device)\n",
    "            outputs = model(images).to(device)\n",
    "            outputs = outputs.cpu()\n",
    "            outputarr = outputs.numpy()\n",
    "            _, predicted = torch.max(outputs, 1)\n",
    "            total += labels.size(0)\n",
    "            correct += (predicted == labels).sum()\n",
    "    accuracy = 100 * correct / total\n",
    "    accuracy_rate.append(accuracy)\n",
    "    print(f'Accuracy is:{accuracy}%'.format(accuracy))"
   ]
  },
  {
   "cell_type": "code",
   "execution_count": 4,
   "id": "ef6428fc",
   "metadata": {},
   "outputs": [
    {
     "name": "stderr",
     "output_type": "stream",
     "text": [
      "D:\\Anaconda\\envs\\pytorch\\lib\\site-packages\\torchvision\\models\\_utils.py:208: UserWarning: The parameter 'pretrained' is deprecated since 0.13 and may be removed in the future, please use 'weights' instead.\n",
      "  warnings.warn(\n",
      "D:\\Anaconda\\envs\\pytorch\\lib\\site-packages\\torchvision\\models\\_utils.py:223: UserWarning: Arguments other than a weight enum or `None` for 'weights' are deprecated since 0.13 and may be removed in the future. The current behavior is equivalent to passing `weights=VGG16_Weights.IMAGENET1K_V1`. You can also use `weights=VGG16_Weights.DEFAULT` to get the most up-to-date weights.\n",
      "  warnings.warn(msg)\n"
     ]
    }
   ],
   "source": [
    "model = vgg16(pretrained=True)"
   ]
  },
  {
   "cell_type": "code",
   "execution_count": 6,
   "id": "cce1ba66",
   "metadata": {},
   "outputs": [
    {
     "name": "stdout",
     "output_type": "stream",
     "text": [
      "1000th Training, running_loss=1444.8376440107822\n",
      "2000th Training, running_loss=831.410417035222\n",
      "Accuracy is:77.86000061035156%\n",
      "1000th Training, running_loss=693.0993446707726\n",
      "2000th Training, running_loss=632.3288294821978\n",
      "Accuracy is:78.62000274658203%\n",
      "1000th Training, running_loss=585.5471361353993\n",
      "2000th Training, running_loss=561.6243983954191\n",
      "Accuracy is:82.22000122070312%\n",
      "1000th Training, running_loss=533.3385413736105\n",
      "2000th Training, running_loss=528.9425534233451\n",
      "Accuracy is:77.52999877929688%\n",
      "1000th Training, running_loss=502.9279771745205\n",
      "2000th Training, running_loss=517.8734045103192\n",
      "Accuracy is:86.30000305175781%\n",
      "1000th Training, running_loss=377.6968470402062\n",
      "2000th Training, running_loss=390.1512226611376\n",
      "Accuracy is:88.16999816894531%\n",
      "1000th Training, running_loss=366.75395810976624\n",
      "2000th Training, running_loss=371.00160704925656\n",
      "Accuracy is:86.63999938964844%\n",
      "1000th Training, running_loss=353.2822380065918\n",
      "2000th Training, running_loss=367.5567024797201\n",
      "Accuracy is:87.91999816894531%\n",
      "1000th Training, running_loss=352.55763122811913\n",
      "2000th Training, running_loss=366.1665127426386\n",
      "Accuracy is:87.44000244140625%\n",
      "1000th Training, running_loss=349.8363095074892\n",
      "2000th Training, running_loss=364.1912790555507\n",
      "Accuracy is:86.68000030517578%\n",
      "1000th Training, running_loss=293.5909239947796\n",
      "2000th Training, running_loss=294.12081954814494\n",
      "Accuracy is:89.54000091552734%\n",
      "1000th Training, running_loss=280.036507923156\n",
      "2000th Training, running_loss=278.43292566761374\n",
      "Accuracy is:88.27999877929688%\n",
      "1000th Training, running_loss=284.6896638683975\n",
      "2000th Training, running_loss=281.0424473695457\n",
      "Accuracy is:89.12999725341797%\n",
      "1000th Training, running_loss=282.6889143381268\n",
      "2000th Training, running_loss=277.55458546057343\n",
      "Accuracy is:90.0199966430664%\n",
      "1000th Training, running_loss=275.5995210967958\n",
      "2000th Training, running_loss=273.80138836055994\n",
      "Accuracy is:88.1500015258789%\n",
      "1000th Training, running_loss=246.68017879500985\n",
      "2000th Training, running_loss=252.29822015948594\n",
      "Accuracy is:90.6500015258789%\n",
      "1000th Training, running_loss=236.94658078625798\n",
      "2000th Training, running_loss=248.6879113316536\n",
      "Accuracy is:89.9800033569336%\n",
      "1000th Training, running_loss=238.47737349197268\n",
      "2000th Training, running_loss=242.21544598788023\n",
      "Accuracy is:89.88999938964844%\n",
      "1000th Training, running_loss=234.1872136881575\n",
      "2000th Training, running_loss=238.4723333902657\n",
      "Accuracy is:91.08000183105469%\n",
      "1000th Training, running_loss=238.21060985606164\n",
      "2000th Training, running_loss=237.4021637700498\n",
      "Accuracy is:91.0%\n",
      "1000th Training, running_loss=231.4429200720042\n",
      "2000th Training, running_loss=226.90552689600736\n",
      "Accuracy is:91.1500015258789%\n",
      "1000th Training, running_loss=219.4013561885804\n",
      "2000th Training, running_loss=225.61717205913737\n",
      "Accuracy is:90.52999877929688%\n",
      "1000th Training, running_loss=225.95424294564873\n",
      "2000th Training, running_loss=214.74274195171893\n",
      "Accuracy is:91.12999725341797%\n",
      "1000th Training, running_loss=216.5177223039791\n",
      "2000th Training, running_loss=221.7559683751315\n",
      "Accuracy is:90.94999694824219%\n",
      "1000th Training, running_loss=221.10642588697374\n",
      "2000th Training, running_loss=218.53384460974485\n",
      "Accuracy is:91.0999984741211%\n",
      "1000th Training, running_loss=218.53809865936637\n",
      "2000th Training, running_loss=220.22341196145862\n",
      "Accuracy is:91.01000213623047%\n",
      "1000th Training, running_loss=216.37229564227164\n",
      "2000th Training, running_loss=219.42087570019066\n",
      "Accuracy is:91.12999725341797%\n",
      "1000th Training, running_loss=213.66816338244826\n",
      "2000th Training, running_loss=215.68877457268536\n",
      "Accuracy is:91.16000366210938%\n",
      "1000th Training, running_loss=215.33586301933974\n",
      "2000th Training, running_loss=209.33988746535033\n",
      "Accuracy is:91.25%\n",
      "1000th Training, running_loss=210.58715132251382\n",
      "2000th Training, running_loss=213.31539828330278\n",
      "Accuracy is:91.16999816894531%\n",
      "1000th Training, running_loss=210.9051086055115\n",
      "2000th Training, running_loss=206.01997987087816\n",
      "Accuracy is:91.16000366210938%\n",
      "1000th Training, running_loss=208.65510711073875\n",
      "2000th Training, running_loss=214.5535589121282\n",
      "Accuracy is:91.30999755859375%\n",
      "1000th Training, running_loss=217.65900071989745\n",
      "2000th Training, running_loss=201.59968337323517\n",
      "Accuracy is:91.12999725341797%\n",
      "1000th Training, running_loss=208.4882814316079\n",
      "2000th Training, running_loss=209.00031331181526\n",
      "Accuracy is:91.16999816894531%\n",
      "1000th Training, running_loss=211.71849922370166\n",
      "2000th Training, running_loss=208.04465352371335\n",
      "Accuracy is:91.3499984741211%\n",
      "1000th Training, running_loss=207.84196154400706\n",
      "2000th Training, running_loss=214.00440039858222\n",
      "Accuracy is:91.30000305175781%\n",
      "1000th Training, running_loss=213.59194510709494\n",
      "2000th Training, running_loss=202.51309087872505\n",
      "Accuracy is:91.30000305175781%\n",
      "1000th Training, running_loss=217.7273353524506\n",
      "2000th Training, running_loss=205.90452633798122\n",
      "Accuracy is:91.19999694824219%\n",
      "1000th Training, running_loss=211.4685460589826\n",
      "2000th Training, running_loss=208.76125404797494\n",
      "Accuracy is:91.3499984741211%\n",
      "1000th Training, running_loss=215.6875689504668\n",
      "2000th Training, running_loss=200.05974179692566\n",
      "Accuracy is:91.20999908447266%\n"
     ]
    }
   ],
   "source": [
    "# Train\n",
    "# model.load_state_dict(torch.load('CIFAR-model/VGG16.pth'))\n",
    "optimizer = optim.SGD(model.parameters(), lr=0.01, weight_decay=5e-3)\n",
    "loss_func = nn.CrossEntropyLoss()\n",
    "scheduler = optim.lr_scheduler.StepLR(optimizer, step_size=5, gamma=0.4, last_epoch=-1)\n",
    "\n",
    "for epoch in range(num_epochs):\n",
    "    model.train()\n",
    "    model.to(device)\n",
    "    running_loss = 0.0\n",
    "    total_correct = 0\n",
    "    total_trainset = 0\n",
    " \n",
    "    for i, (data, labels) in enumerate(trainLoader, 0):\n",
    "        data = data.to(device)\n",
    "        outputs = model(data).to(device)\n",
    "        labels = labels.to(device)\n",
    "        loss = loss_func(outputs, labels).to(device)\n",
    "        optimizer.zero_grad()\n",
    "        loss.backward()\n",
    "        optimizer.step()\n",
    "        running_loss += loss.item()\n",
    "        _, pred = outputs.max(1)\n",
    "        correct = (pred == labels).sum().item()\n",
    "        total_correct += correct\n",
    "        total_trainset += data.shape[0]\n",
    "        if i % 1000 == 0 and i > 0:\n",
    "            print(f\"{i}th Training, running_loss={running_loss}\".format(i, running_loss))\n",
    "            running_loss = 0.0\n",
    "    test()\n",
    "    scheduler.step()"
   ]
  },
  {
   "cell_type": "code",
   "execution_count": 7,
   "id": "e2f10dbd",
   "metadata": {},
   "outputs": [],
   "source": [
    "torch.save(model.state_dict(), r'.\\vgg16_2.pth')"
   ]
  },
  {
   "cell_type": "code",
   "execution_count": 5,
   "id": "6c0a62dc",
   "metadata": {
    "scrolled": true
   },
   "outputs": [
    {
     "name": "stdout",
     "output_type": "stream",
     "text": [
      "odict_keys(['features.0.weight', 'features.0.bias', 'features.2.weight', 'features.2.bias', 'features.5.weight', 'features.5.bias', 'features.7.weight', 'features.7.bias', 'features.10.weight', 'features.10.bias', 'features.12.weight', 'features.12.bias', 'features.14.weight', 'features.14.bias', 'features.17.weight', 'features.17.bias', 'features.19.weight', 'features.19.bias', 'features.21.weight', 'features.21.bias', 'features.24.weight', 'features.24.bias', 'features.26.weight', 'features.26.bias', 'features.28.weight', 'features.28.bias', 'classifier.0.weight', 'classifier.0.bias', 'classifier.3.weight', 'classifier.3.bias', 'classifier.6.weight', 'classifier.6.bias'])\n"
     ]
    }
   ],
   "source": [
    "state_dict = torch.load(r'.\\vgg16_2.pth')\n",
    "print(state_dict.keys())"
   ]
  },
  {
   "cell_type": "code",
   "execution_count": 6,
   "id": "88ade51f",
   "metadata": {},
   "outputs": [
    {
     "data": {
      "text/plain": [
       "<All keys matched successfully>"
      ]
     },
     "execution_count": 6,
     "metadata": {},
     "output_type": "execute_result"
    }
   ],
   "source": [
    "model.load_state_dict(state_dict)"
   ]
  },
  {
   "cell_type": "code",
   "execution_count": 7,
   "id": "42019d66",
   "metadata": {},
   "outputs": [],
   "source": [
    "import torch.nn.utils.prune as prune"
   ]
  },
  {
   "cell_type": "code",
   "execution_count": 8,
   "id": "fd94aad1",
   "metadata": {},
   "outputs": [
    {
     "name": "stdout",
     "output_type": "stream",
     "text": [
      "VGG(\n",
      "  (features): Sequential(\n",
      "    (0): Conv2d(3, 64, kernel_size=(3, 3), stride=(1, 1), padding=(1, 1))\n",
      "    (1): ReLU(inplace=True)\n",
      "    (2): Conv2d(64, 64, kernel_size=(3, 3), stride=(1, 1), padding=(1, 1))\n",
      "    (3): ReLU(inplace=True)\n",
      "    (4): MaxPool2d(kernel_size=2, stride=2, padding=0, dilation=1, ceil_mode=False)\n",
      "    (5): Conv2d(64, 128, kernel_size=(3, 3), stride=(1, 1), padding=(1, 1))\n",
      "    (6): ReLU(inplace=True)\n",
      "    (7): Conv2d(128, 128, kernel_size=(3, 3), stride=(1, 1), padding=(1, 1))\n",
      "    (8): ReLU(inplace=True)\n",
      "    (9): MaxPool2d(kernel_size=2, stride=2, padding=0, dilation=1, ceil_mode=False)\n",
      "    (10): Conv2d(128, 256, kernel_size=(3, 3), stride=(1, 1), padding=(1, 1))\n",
      "    (11): ReLU(inplace=True)\n",
      "    (12): Conv2d(256, 256, kernel_size=(3, 3), stride=(1, 1), padding=(1, 1))\n",
      "    (13): ReLU(inplace=True)\n",
      "    (14): Conv2d(256, 256, kernel_size=(3, 3), stride=(1, 1), padding=(1, 1))\n",
      "    (15): ReLU(inplace=True)\n",
      "    (16): MaxPool2d(kernel_size=2, stride=2, padding=0, dilation=1, ceil_mode=False)\n",
      "    (17): Conv2d(256, 512, kernel_size=(3, 3), stride=(1, 1), padding=(1, 1))\n",
      "    (18): ReLU(inplace=True)\n",
      "    (19): Conv2d(512, 512, kernel_size=(3, 3), stride=(1, 1), padding=(1, 1))\n",
      "    (20): ReLU(inplace=True)\n",
      "    (21): Conv2d(512, 512, kernel_size=(3, 3), stride=(1, 1), padding=(1, 1))\n",
      "    (22): ReLU(inplace=True)\n",
      "    (23): MaxPool2d(kernel_size=2, stride=2, padding=0, dilation=1, ceil_mode=False)\n",
      "    (24): Conv2d(512, 512, kernel_size=(3, 3), stride=(1, 1), padding=(1, 1))\n",
      "    (25): ReLU(inplace=True)\n",
      "    (26): Conv2d(512, 512, kernel_size=(3, 3), stride=(1, 1), padding=(1, 1))\n",
      "    (27): ReLU(inplace=True)\n",
      "    (28): Conv2d(512, 512, kernel_size=(3, 3), stride=(1, 1), padding=(1, 1))\n",
      "    (29): ReLU(inplace=True)\n",
      "    (30): MaxPool2d(kernel_size=2, stride=2, padding=0, dilation=1, ceil_mode=False)\n",
      "  )\n",
      "  (avgpool): AdaptiveAvgPool2d(output_size=(7, 7))\n",
      "  (classifier): Sequential(\n",
      "    (0): Linear(in_features=25088, out_features=4096, bias=True)\n",
      "    (1): ReLU(inplace=True)\n",
      "    (2): Dropout(p=0.5, inplace=False)\n",
      "    (3): Linear(in_features=4096, out_features=4096, bias=True)\n",
      "    (4): ReLU(inplace=True)\n",
      "    (5): Dropout(p=0.5, inplace=False)\n",
      "    (6): Linear(in_features=4096, out_features=1000, bias=True)\n",
      "  )\n",
      ")\n"
     ]
    }
   ],
   "source": [
    "print(model)"
   ]
  },
  {
   "cell_type": "code",
   "execution_count": 9,
   "id": "dc038056",
   "metadata": {},
   "outputs": [],
   "source": [
    "mean = (0.4914, 0.4822, 0.4465)\n",
    "std = (0.2471, 0.2435, 0.2616)\n",
    "transform = torchvision.transforms.Compose(\n",
    "            [\n",
    "                torchvision.transforms.ToTensor(),\n",
    "                torchvision.transforms.Normalize(mean, std),\n",
    "            ]\n",
    "            )\n",
    "BATCH = 32\n",
    "NUM_WORKERS = 8"
   ]
  },
  {
   "cell_type": "code",
   "execution_count": 10,
   "id": "131ed843",
   "metadata": {},
   "outputs": [
    {
     "name": "stdout",
     "output_type": "stream",
     "text": [
      "Files already downloaded and verified\n",
      "Files already downloaded and verified\n"
     ]
    }
   ],
   "source": [
    "cifar10_train = torchvision.datasets.CIFAR10(root='CIFAR10/train', train= True, download= True, transform=transform)\n",
    "cifar10_test = torchvision.datasets.CIFAR10(root='CIFAR10/test', train= False, download= True, transform=transform)\n",
    "\n",
    "# train_loader = torch.utils.data.DataLoader(cifar10_train, batch_size=BATCH, shuffle=True, num_workers=NUM_WORKERS)\n",
    "test_loader = torch.utils.data.DataLoader(cifar10_test, batch_size=BATCH, shuffle=True, num_workers=NUM_WORKERS)"
   ]
  },
  {
   "cell_type": "code",
   "execution_count": 11,
   "id": "8216af00",
   "metadata": {},
   "outputs": [
    {
     "data": {
      "text/html": [
       "<div>\n",
       "<style scoped>\n",
       "    .dataframe tbody tr th:only-of-type {\n",
       "        vertical-align: middle;\n",
       "    }\n",
       "\n",
       "    .dataframe tbody tr th {\n",
       "        vertical-align: top;\n",
       "    }\n",
       "\n",
       "    .dataframe thead th {\n",
       "        text-align: right;\n",
       "    }\n",
       "</style>\n",
       "<table border=\"1\" class=\"dataframe\">\n",
       "  <thead>\n",
       "    <tr style=\"text-align: right;\">\n",
       "      <th></th>\n",
       "      <th>Id</th>\n",
       "    </tr>\n",
       "  </thead>\n",
       "  <tbody>\n",
       "    <tr>\n",
       "      <th>airplane</th>\n",
       "      <td>0</td>\n",
       "    </tr>\n",
       "    <tr>\n",
       "      <th>automobile</th>\n",
       "      <td>1</td>\n",
       "    </tr>\n",
       "    <tr>\n",
       "      <th>bird</th>\n",
       "      <td>2</td>\n",
       "    </tr>\n",
       "    <tr>\n",
       "      <th>cat</th>\n",
       "      <td>3</td>\n",
       "    </tr>\n",
       "    <tr>\n",
       "      <th>deer</th>\n",
       "      <td>4</td>\n",
       "    </tr>\n",
       "    <tr>\n",
       "      <th>dog</th>\n",
       "      <td>5</td>\n",
       "    </tr>\n",
       "    <tr>\n",
       "      <th>frog</th>\n",
       "      <td>6</td>\n",
       "    </tr>\n",
       "    <tr>\n",
       "      <th>horse</th>\n",
       "      <td>7</td>\n",
       "    </tr>\n",
       "    <tr>\n",
       "      <th>ship</th>\n",
       "      <td>8</td>\n",
       "    </tr>\n",
       "    <tr>\n",
       "      <th>truck</th>\n",
       "      <td>9</td>\n",
       "    </tr>\n",
       "  </tbody>\n",
       "</table>\n",
       "</div>"
      ],
      "text/plain": [
       "            Id\n",
       "airplane     0\n",
       "automobile   1\n",
       "bird         2\n",
       "cat          3\n",
       "deer         4\n",
       "dog          5\n",
       "frog         6\n",
       "horse        7\n",
       "ship         8\n",
       "truck        9"
      ]
     },
     "metadata": {},
     "output_type": "display_data"
    }
   ],
   "source": [
    "df = pd.DataFrame.from_dict(data=cifar10_test.class_to_idx, columns=[ 'Id'], orient ='index' )\n",
    "display(df)"
   ]
  },
  {
   "cell_type": "code",
   "execution_count": 12,
   "id": "c5d73c98",
   "metadata": {},
   "outputs": [
    {
     "data": {
      "text/html": [
       "<div>\n",
       "<style scoped>\n",
       "    .dataframe tbody tr th:only-of-type {\n",
       "        vertical-align: middle;\n",
       "    }\n",
       "\n",
       "    .dataframe tbody tr th {\n",
       "        vertical-align: top;\n",
       "    }\n",
       "\n",
       "    .dataframe thead th {\n",
       "        text-align: right;\n",
       "    }\n",
       "</style>\n",
       "<table border=\"1\" class=\"dataframe\">\n",
       "  <thead>\n",
       "    <tr style=\"text-align: right;\">\n",
       "      <th></th>\n",
       "      <th>Explanation</th>\n",
       "    </tr>\n",
       "  </thead>\n",
       "  <tbody>\n",
       "    <tr>\n",
       "      <th>Total training data</th>\n",
       "      <td>50000</td>\n",
       "    </tr>\n",
       "    <tr>\n",
       "      <th>Total test data</th>\n",
       "      <td>10000</td>\n",
       "    </tr>\n",
       "    <tr>\n",
       "      <th>Img Dimension</th>\n",
       "      <td>(32, 32, 3)</td>\n",
       "    </tr>\n",
       "  </tbody>\n",
       "</table>\n",
       "</div>"
      ],
      "text/plain": [
       "                     Explanation\n",
       "Total training data        50000\n",
       "Total test data            10000\n",
       "Img Dimension        (32, 32, 3)"
      ]
     },
     "metadata": {},
     "output_type": "display_data"
    }
   ],
   "source": [
    "dataset_info = { 'Total training data':cifar10_train.data.shape[0], 'Total test data': cifar10_test.data.shape[0], 'Img Dimension': cifar10_test.data.shape[1:]}\n",
    "display(pd.DataFrame.from_dict(dataset_info, orient='index', columns=['Explanation']))"
   ]
  },
  {
   "cell_type": "code",
   "execution_count": 13,
   "id": "c22f058c",
   "metadata": {},
   "outputs": [],
   "source": [
    "def get_cpu_inference_time_and_test_acc(model, test_loader):\n",
    "    test_data_size = len(testLoader.dataset)\n",
    "    cpu_device = torch.device(\"cpu\")\n",
    "    model = model.to(cpu_device)\n",
    "    # Wam-up\n",
    "    # Because I sequentially run each cell above, and they includes for loop, I assume the CPU is warmed up\n",
    "#     torch.cuda.synchronize()\n",
    "    elapsed_time_ms = 0\n",
    "    start = timer()\n",
    "    # Start Inference Phase\n",
    "    correct = 0\n",
    "    with torch.no_grad():\n",
    "        for imgs, labels in tqdm.tqdm(test_loader):\n",
    "#             imgs, labels = imgs.cuda(), labels.cuda()\n",
    "            imgs, labels = imgs.to(cpu_device), labels.to(cpu_device)\n",
    "            out = model(imgs.float())\n",
    "            predictions = out.argmax(dim=1, keepdim=True)  \n",
    "            correct += predictions.eq(labels.view_as(predictions)).sum().item()\n",
    "#             break\n",
    "    accuracy = correct/len(test_loader.dataset)\n",
    "    print(accuracy)\n",
    "    # End of inference Phase\n",
    "#     torch.cuda.synchronize()\n",
    "    end = timer()\n",
    "    elapsed_time_ms = (end - start) * 1000\n",
    "    per_sample = elapsed_time_ms/test_data_size\n",
    "    print(\"CPU Inference time is \" + str(per_sample)+ ' ms')\n",
    "    return per_sample, accuracy"
   ]
  },
  {
   "cell_type": "code",
   "execution_count": 43,
   "id": "5d9ca6ff",
   "metadata": {},
   "outputs": [
    {
     "name": "stderr",
     "output_type": "stream",
     "text": [
      "100%|████████████████████████████████████████████████████████████████████████████████| 313/313 [00:41<00:00,  7.63it/s]"
     ]
    },
    {
     "name": "stdout",
     "output_type": "stream",
     "text": [
      "0.9087\n",
      "CPU Inference time is 4.103978110000003 ms\n"
     ]
    },
    {
     "name": "stderr",
     "output_type": "stream",
     "text": [
      "\n"
     ]
    }
   ],
   "source": [
    "# Original Model\n",
    "torch.cuda.empty_cache()\n",
    "criterion=torch.nn.CrossEntropyLoss()\n",
    "model.eval()\n",
    "cpu_inf_time, acc = get_cpu_inference_time_and_test_acc(model, test_loader)"
   ]
  },
  {
   "cell_type": "code",
   "execution_count": 14,
   "id": "1985200e",
   "metadata": {},
   "outputs": [],
   "source": [
    "parameters_to_prune1 =[] # 0.1\n",
    "parameters_to_prune2 =[] # 0.3\n",
    "parameters_to_prune3 =[] # 0.5\n",
    "parameters_to_prune4 =[] # 0.7\n",
    "parameters_to_prune5 =[] # 0.9\n",
    "\n",
    "compressed_model1 = copy.deepcopy(model)\n",
    "compressed_model2 = copy.deepcopy(model)\n",
    "compressed_model3 = copy.deepcopy(model)\n",
    "compressed_model4 = copy.deepcopy(model)\n",
    "compressed_model5 = copy.deepcopy(model)"
   ]
  },
  {
   "cell_type": "code",
   "execution_count": 15,
   "id": "fb15a80a",
   "metadata": {},
   "outputs": [],
   "source": [
    "for module_name, module in compressed_model1.named_modules():\n",
    "        if isinstance(module, torch.nn.Conv2d):\n",
    "            parameters_to_prune1.append((module,\"weight\"))\n",
    "\n",
    "for module_name, module in compressed_model2.named_modules():\n",
    "        if isinstance(module, torch.nn.Conv2d):\n",
    "            parameters_to_prune2.append((module,\"weight\"))\n",
    "\n",
    "for module_name, module in compressed_model3.named_modules():\n",
    "        if isinstance(module, torch.nn.Conv2d):\n",
    "            parameters_to_prune3.append((module,\"weight\"))\n",
    "            \n",
    "for module_name, module in compressed_model4.named_modules():\n",
    "        if isinstance(module, torch.nn.Conv2d):\n",
    "            parameters_to_prune4.append((module,\"weight\"))\n",
    "\n",
    "for module_name, module in compressed_model5.named_modules():\n",
    "        if isinstance(module, torch.nn.Conv2d):\n",
    "            parameters_to_prune5.append((module,\"weight\"))"
   ]
  },
  {
   "cell_type": "code",
   "execution_count": 16,
   "id": "5b10bd6d",
   "metadata": {},
   "outputs": [],
   "source": [
    "parameters_to_prune1 = tuple(parameters_to_prune1)\n",
    "parameters_to_prune2 = tuple(parameters_to_prune2)\n",
    "parameters_to_prune3 = tuple(parameters_to_prune3)\n",
    "parameters_to_prune4 = tuple(parameters_to_prune4)\n",
    "parameters_to_prune5 = tuple(parameters_to_prune5)"
   ]
  },
  {
   "cell_type": "code",
   "execution_count": 17,
   "id": "184b5b5e",
   "metadata": {},
   "outputs": [],
   "source": [
    "prune.global_unstructured(\n",
    "        parameters_to_prune1,\n",
    "        pruning_method=prune.L1Unstructured,\n",
    "        amount=0.1,\n",
    "    )\n",
    "\n",
    "prune.global_unstructured(\n",
    "        parameters_to_prune2,\n",
    "        pruning_method=prune.L1Unstructured,\n",
    "        amount=0.3,\n",
    "    )\n",
    "\n",
    "prune.global_unstructured(\n",
    "        parameters_to_prune3,\n",
    "        pruning_method=prune.L1Unstructured,\n",
    "        amount=0.5,\n",
    "    )\n",
    "\n",
    "prune.global_unstructured(\n",
    "        parameters_to_prune4,\n",
    "        pruning_method=prune.L1Unstructured,\n",
    "        amount=0.7,\n",
    "    )\n",
    "\n",
    "prune.global_unstructured(\n",
    "        parameters_to_prune5,\n",
    "        pruning_method=prune.L1Unstructured,\n",
    "        amount=0.9,\n",
    "    )"
   ]
  },
  {
   "cell_type": "code",
   "execution_count": 18,
   "id": "b3f4152c",
   "metadata": {},
   "outputs": [],
   "source": [
    "for module_name, module in compressed_model1.named_modules():\n",
    "        if isinstance(module, torch.nn.Conv2d):\n",
    "            prune.remove(module, 'weight')\n",
    "            \n",
    "for module_name, module in compressed_model2.named_modules():\n",
    "        if isinstance(module, torch.nn.Conv2d):\n",
    "            prune.remove(module, 'weight')\n",
    "            \n",
    "for module_name, module in compressed_model3.named_modules():\n",
    "        if isinstance(module, torch.nn.Conv2d):\n",
    "            prune.remove(module, 'weight')\n",
    "            \n",
    "for module_name, module in compressed_model4.named_modules():\n",
    "        if isinstance(module, torch.nn.Conv2d):\n",
    "            prune.remove(module, 'weight')\n",
    "            \n",
    "for module_name, module in compressed_model5.named_modules():\n",
    "        if isinstance(module, torch.nn.Conv2d):\n",
    "            prune.remove(module, 'weight')"
   ]
  },
  {
   "cell_type": "code",
   "execution_count": 19,
   "id": "d7abf297",
   "metadata": {},
   "outputs": [],
   "source": [
    "torch.save(compressed_model1.state_dict(), r'.\\vgg16_compressed1_pruning.pth')\n",
    "torch.save(compressed_model2.state_dict(), r'.\\vgg16_compressed2_pruning.pth')\n",
    "torch.save(compressed_model3.state_dict(), r'.\\vgg16_compressed3_pruning.pth')\n",
    "torch.save(compressed_model4.state_dict(), r'.\\vgg16_compressed4_pruning.pth')\n",
    "torch.save(compressed_model5.state_dict(), r'.\\vgg16_compressed5_pruning.pth')"
   ]
  },
  {
   "cell_type": "code",
   "execution_count": 37,
   "id": "7ba20a89",
   "metadata": {},
   "outputs": [
    {
     "name": "stderr",
     "output_type": "stream",
     "text": [
      "100%|████████████████████████████████████████████████████████████████████████████████| 313/313 [00:40<00:00,  7.74it/s]"
     ]
    },
    {
     "name": "stdout",
     "output_type": "stream",
     "text": [
      "0.909\n",
      "CPU Inference time is 4.044142030000001 ms\n"
     ]
    },
    {
     "name": "stderr",
     "output_type": "stream",
     "text": [
      "\n"
     ]
    }
   ],
   "source": [
    "torch.cuda.empty_cache()\n",
    "criterion=torch.nn.CrossEntropyLoss()\n",
    "compressed_model1.eval()\n",
    "cpu_inf_time1, acc1 = get_cpu_inference_time_and_test_acc(compressed_model1, test_loader)"
   ]
  },
  {
   "cell_type": "code",
   "execution_count": 38,
   "id": "273c2a43",
   "metadata": {},
   "outputs": [
    {
     "name": "stderr",
     "output_type": "stream",
     "text": [
      "100%|████████████████████████████████████████████████████████████████████████████████| 313/313 [00:40<00:00,  7.71it/s]"
     ]
    },
    {
     "name": "stdout",
     "output_type": "stream",
     "text": [
      "0.9066\n",
      "CPU Inference time is 4.06103751999999 ms\n"
     ]
    },
    {
     "name": "stderr",
     "output_type": "stream",
     "text": [
      "\n"
     ]
    }
   ],
   "source": [
    "torch.cuda.empty_cache()\n",
    "criterion=torch.nn.CrossEntropyLoss()\n",
    "compressed_model2.eval()\n",
    "cpu_inf_time2, acc2 = get_cpu_inference_time_and_test_acc(compressed_model2, test_loader)"
   ]
  },
  {
   "cell_type": "code",
   "execution_count": 39,
   "id": "d9147f1a",
   "metadata": {},
   "outputs": [
    {
     "name": "stderr",
     "output_type": "stream",
     "text": [
      "100%|████████████████████████████████████████████████████████████████████████████████| 313/313 [00:40<00:00,  7.80it/s]"
     ]
    },
    {
     "name": "stdout",
     "output_type": "stream",
     "text": [
      "0.9022\n",
      "CPU Inference time is 4.013130460000002 ms\n"
     ]
    },
    {
     "name": "stderr",
     "output_type": "stream",
     "text": [
      "\n"
     ]
    }
   ],
   "source": [
    "torch.cuda.empty_cache()\n",
    "criterion=torch.nn.CrossEntropyLoss()\n",
    "compressed_model3.eval()\n",
    "cpu_inf_time3, acc3 = get_cpu_inference_time_and_test_acc(compressed_model3, test_loader)"
   ]
  },
  {
   "cell_type": "code",
   "execution_count": 40,
   "id": "760313c6",
   "metadata": {},
   "outputs": [
    {
     "name": "stderr",
     "output_type": "stream",
     "text": [
      "100%|████████████████████████████████████████████████████████████████████████████████| 313/313 [00:40<00:00,  7.80it/s]"
     ]
    },
    {
     "name": "stdout",
     "output_type": "stream",
     "text": [
      "0.8551\n",
      "CPU Inference time is 4.012443949999999 ms\n"
     ]
    },
    {
     "name": "stderr",
     "output_type": "stream",
     "text": [
      "\n"
     ]
    }
   ],
   "source": [
    "torch.cuda.empty_cache()\n",
    "criterion=torch.nn.CrossEntropyLoss()\n",
    "compressed_model4.eval()\n",
    "cpu_inf_time4, acc4 = get_cpu_inference_time_and_test_acc(compressed_model4, test_loader)"
   ]
  },
  {
   "cell_type": "code",
   "execution_count": 41,
   "id": "59360018",
   "metadata": {},
   "outputs": [
    {
     "name": "stderr",
     "output_type": "stream",
     "text": [
      "100%|████████████████████████████████████████████████████████████████████████████████| 313/313 [00:40<00:00,  7.82it/s]"
     ]
    },
    {
     "name": "stdout",
     "output_type": "stream",
     "text": [
      "0.1\n",
      "CPU Inference time is 4.001661149999996 ms\n"
     ]
    },
    {
     "name": "stderr",
     "output_type": "stream",
     "text": [
      "\n"
     ]
    }
   ],
   "source": [
    "torch.cuda.empty_cache()\n",
    "criterion=torch.nn.CrossEntropyLoss()\n",
    "compressed_model5.eval()\n",
    "cpu_inf_time5, acc5 = get_cpu_inference_time_and_test_acc(compressed_model5, test_loader)"
   ]
  },
  {
   "cell_type": "code",
   "execution_count": 44,
   "id": "29f26336",
   "metadata": {},
   "outputs": [
    {
     "data": {
      "text/html": [
       "<div>\n",
       "<style scoped>\n",
       "    .dataframe tbody tr th:only-of-type {\n",
       "        vertical-align: middle;\n",
       "    }\n",
       "\n",
       "    .dataframe tbody tr th {\n",
       "        vertical-align: top;\n",
       "    }\n",
       "\n",
       "    .dataframe thead th {\n",
       "        text-align: right;\n",
       "    }\n",
       "</style>\n",
       "<table border=\"1\" class=\"dataframe\">\n",
       "  <thead>\n",
       "    <tr style=\"text-align: right;\">\n",
       "      <th></th>\n",
       "      <th>l1_unstructed</th>\n",
       "    </tr>\n",
       "    <tr>\n",
       "      <th>Proportion</th>\n",
       "      <th></th>\n",
       "    </tr>\n",
       "  </thead>\n",
       "  <tbody>\n",
       "    <tr>\n",
       "      <th>0.0</th>\n",
       "      <td>4.103978</td>\n",
       "    </tr>\n",
       "    <tr>\n",
       "      <th>0.1</th>\n",
       "      <td>4.044142</td>\n",
       "    </tr>\n",
       "    <tr>\n",
       "      <th>0.3</th>\n",
       "      <td>4.061038</td>\n",
       "    </tr>\n",
       "    <tr>\n",
       "      <th>0.5</th>\n",
       "      <td>4.013130</td>\n",
       "    </tr>\n",
       "    <tr>\n",
       "      <th>0.7</th>\n",
       "      <td>4.012444</td>\n",
       "    </tr>\n",
       "    <tr>\n",
       "      <th>0.9</th>\n",
       "      <td>4.001661</td>\n",
       "    </tr>\n",
       "  </tbody>\n",
       "</table>\n",
       "</div>"
      ],
      "text/plain": [
       "            l1_unstructed\n",
       "Proportion               \n",
       "0.0              4.103978\n",
       "0.1              4.044142\n",
       "0.3              4.061038\n",
       "0.5              4.013130\n",
       "0.7              4.012444\n",
       "0.9              4.001661"
      ]
     },
     "metadata": {},
     "output_type": "display_data"
    }
   ],
   "source": [
    "cpu_data = {'l1_unstructed': [cpu_inf_time,\n",
    "                              cpu_inf_time1, \n",
    "                              cpu_inf_time2,\n",
    "                              cpu_inf_time3,\n",
    "                              cpu_inf_time4,\n",
    "                              cpu_inf_time5],\n",
    "           'Proportion': ['0.0','0.1','0.3','0.5','0.7','0.9']}\n",
    "cpu_df = pd.DataFrame.from_dict(cpu_data, orient='columns').set_index('Proportion')\n",
    "display(cpu_df)\n",
    "cpu_df.to_csv(\"VGG16_cpu_inf.csv\")"
   ]
  },
  {
   "cell_type": "code",
   "execution_count": 46,
   "id": "d4482954",
   "metadata": {},
   "outputs": [
    {
     "data": {
      "text/html": [
       "<div>\n",
       "<style scoped>\n",
       "    .dataframe tbody tr th:only-of-type {\n",
       "        vertical-align: middle;\n",
       "    }\n",
       "\n",
       "    .dataframe tbody tr th {\n",
       "        vertical-align: top;\n",
       "    }\n",
       "\n",
       "    .dataframe thead th {\n",
       "        text-align: right;\n",
       "    }\n",
       "</style>\n",
       "<table border=\"1\" class=\"dataframe\">\n",
       "  <thead>\n",
       "    <tr style=\"text-align: right;\">\n",
       "      <th></th>\n",
       "      <th>l1_unstructed</th>\n",
       "    </tr>\n",
       "    <tr>\n",
       "      <th>Proportion</th>\n",
       "      <th></th>\n",
       "    </tr>\n",
       "  </thead>\n",
       "  <tbody>\n",
       "    <tr>\n",
       "      <th>0.0</th>\n",
       "      <td>0.9087</td>\n",
       "    </tr>\n",
       "    <tr>\n",
       "      <th>0.1</th>\n",
       "      <td>0.9090</td>\n",
       "    </tr>\n",
       "    <tr>\n",
       "      <th>0.3</th>\n",
       "      <td>0.9066</td>\n",
       "    </tr>\n",
       "    <tr>\n",
       "      <th>0.5</th>\n",
       "      <td>0.9022</td>\n",
       "    </tr>\n",
       "    <tr>\n",
       "      <th>0.7</th>\n",
       "      <td>0.8551</td>\n",
       "    </tr>\n",
       "    <tr>\n",
       "      <th>0.9</th>\n",
       "      <td>0.1000</td>\n",
       "    </tr>\n",
       "  </tbody>\n",
       "</table>\n",
       "</div>"
      ],
      "text/plain": [
       "            l1_unstructed\n",
       "Proportion               \n",
       "0.0                0.9087\n",
       "0.1                0.9090\n",
       "0.3                0.9066\n",
       "0.5                0.9022\n",
       "0.7                0.8551\n",
       "0.9                0.1000"
      ]
     },
     "metadata": {},
     "output_type": "display_data"
    }
   ],
   "source": [
    "acc_data = {'l1_unstructed': [acc,\n",
    "                              acc1, \n",
    "                              acc2,\n",
    "                              acc3,\n",
    "                              acc4,\n",
    "                              acc5],\n",
    "           'Proportion': ['0.0','0.1','0.3','0.5','0.7','0.9']}\n",
    "acc_df = pd.DataFrame.from_dict(acc_data, orient='columns').set_index('Proportion')\n",
    "display(acc_df)\n",
    "acc_df.to_csv(\"VGG16_acc.csv\")"
   ]
  },
  {
   "cell_type": "code",
   "execution_count": 47,
   "id": "ed0516e0",
   "metadata": {},
   "outputs": [
    {
     "data": {
      "image/png": "[encoded data removed]",
      "text/plain": [
       "<Figure size 1500x1200 with 1 Axes>"
      ]
     },
     "metadata": {},
     "output_type": "display_data"
    }
   ],
   "source": [
    "accuracy = [acc, acc1, acc2, acc3, acc4, acc5]\n",
    "percent = [0.0, 0.1, 0.3, 0.5, 0.7, 0.9]\n",
    "\n",
    "plt.figure(figsize=(10,8),dpi=150)\n",
    "plt.plot(percent, accuracy, color='r', marker='o', markerfacecolor='blue')\n",
    "plt.xticks ([0.0, 0.1, 0.3, 0.5, 0.7, 0.9])\n",
    "plt.title(\"VGG16: Accuracy vs. Pruning Percent\")\n",
    "plt.xlabel(\"Pruning Percent\")\n",
    "plt.ylabel(\"Accuracy\")\n",
    "for a, b in zip(percent, accuracy):\n",
    "    plt.text(a, b, b, ha='center', va='bottom', fontsize=9)\n",
    "plt.savefig('VGG16_Accuracy vs. Pruning Percent.png')\n",
    "plt.show()"
   ]
  },
  {
   "cell_type": "code",
   "execution_count": 48,
   "id": "511c7c68",
   "metadata": {},
   "outputs": [
    {
     "name": "stdout",
     "output_type": "stream",
     "text": [
      "features.0.weight: torch.Size([64, 3, 3, 3]), non-zero elements: 1728\n",
      "features.2.weight: torch.Size([64, 64, 3, 3]), non-zero elements: 36864\n",
      "features.5.weight: torch.Size([128, 64, 3, 3]), non-zero elements: 73728\n",
      "features.7.weight: torch.Size([128, 128, 3, 3]), non-zero elements: 147456\n",
      "features.10.weight: torch.Size([256, 128, 3, 3]), non-zero elements: 294912\n",
      "features.12.weight: torch.Size([256, 256, 3, 3]), non-zero elements: 589824\n",
      "features.14.weight: torch.Size([256, 256, 3, 3]), non-zero elements: 589824\n",
      "features.17.weight: torch.Size([512, 256, 3, 3]), non-zero elements: 1179648\n",
      "features.19.weight: torch.Size([512, 512, 3, 3]), non-zero elements: 2359296\n",
      "features.21.weight: torch.Size([512, 512, 3, 3]), non-zero elements: 2359296\n",
      "features.24.weight: torch.Size([512, 512, 3, 3]), non-zero elements: 2359296\n",
      "features.26.weight: torch.Size([512, 512, 3, 3]), non-zero elements: 2359296\n",
      "features.28.weight: torch.Size([512, 512, 3, 3]), non-zero elements: 2359296\n",
      "classifier.0.weight: torch.Size([4096, 25088]), non-zero elements: 102760448\n",
      "classifier.3.weight: torch.Size([4096, 4096]), non-zero elements: 16777216\n",
      "classifier.6.weight: torch.Size([1000, 4096]), non-zero elements: 4096000\n"
     ]
    }
   ],
   "source": [
    "for name, param in model.named_parameters():\n",
    "    if 'weight' in name:\n",
    "        print(f'{name}: {param.shape}, non-zero elements: {torch.nonzero(param).shape[0]}')"
   ]
  },
  {
   "cell_type": "code",
   "execution_count": 49,
   "id": "24cb40c3",
   "metadata": {},
   "outputs": [
    {
     "name": "stdout",
     "output_type": "stream",
     "text": [
      "features.0.weight: torch.Size([64, 3, 3, 3]), non-zero elements: 1721\n",
      "features.2.weight: torch.Size([64, 64, 3, 3]), non-zero elements: 35438\n",
      "features.5.weight: torch.Size([128, 64, 3, 3]), non-zero elements: 70640\n",
      "features.7.weight: torch.Size([128, 128, 3, 3]), non-zero elements: 140275\n",
      "features.10.weight: torch.Size([256, 128, 3, 3]), non-zero elements: 277689\n",
      "features.12.weight: torch.Size([256, 256, 3, 3]), non-zero elements: 547638\n",
      "features.14.weight: torch.Size([256, 256, 3, 3]), non-zero elements: 549016\n",
      "features.17.weight: torch.Size([512, 256, 3, 3]), non-zero elements: 1079982\n",
      "features.19.weight: torch.Size([512, 512, 3, 3]), non-zero elements: 2105389\n",
      "features.21.weight: torch.Size([512, 512, 3, 3]), non-zero elements: 2103438\n",
      "features.24.weight: torch.Size([512, 512, 3, 3]), non-zero elements: 2118150\n",
      "features.26.weight: torch.Size([512, 512, 3, 3]), non-zero elements: 2119858\n",
      "features.28.weight: torch.Size([512, 512, 3, 3]), non-zero elements: 2090184\n",
      "classifier.0.weight: torch.Size([4096, 25088]), non-zero elements: 102760448\n",
      "classifier.3.weight: torch.Size([4096, 4096]), non-zero elements: 16777216\n",
      "classifier.6.weight: torch.Size([1000, 4096]), non-zero elements: 4096000\n"
     ]
    }
   ],
   "source": [
    "for name, param in compressed_model1.named_parameters():\n",
    "    if 'weight' in name:\n",
    "        print(f'{name}: {param.shape}, non-zero elements: {torch.nonzero(param).shape[0]}')"
   ]
  },
  {
   "cell_type": "code",
   "execution_count": 50,
   "id": "e02a94c4",
   "metadata": {},
   "outputs": [
    {
     "name": "stdout",
     "output_type": "stream",
     "text": [
      "features.0.weight: torch.Size([64, 3, 3, 3]), non-zero elements: 1690\n",
      "features.2.weight: torch.Size([64, 64, 3, 3]), non-zero elements: 32364\n",
      "features.5.weight: torch.Size([128, 64, 3, 3]), non-zero elements: 64357\n",
      "features.7.weight: torch.Size([128, 128, 3, 3]), non-zero elements: 125658\n",
      "features.10.weight: torch.Size([256, 128, 3, 3]), non-zero elements: 242818\n",
      "features.12.weight: torch.Size([256, 256, 3, 3]), non-zero elements: 462580\n",
      "features.14.weight: torch.Size([256, 256, 3, 3]), non-zero elements: 465367\n",
      "features.17.weight: torch.Size([512, 256, 3, 3]), non-zero elements: 878224\n",
      "features.19.weight: torch.Size([512, 512, 3, 3]), non-zero elements: 1597952\n",
      "features.21.weight: torch.Size([512, 512, 3, 3]), non-zero elements: 1591243\n",
      "features.24.weight: torch.Size([512, 512, 3, 3]), non-zero elements: 1635249\n",
      "features.26.weight: torch.Size([512, 512, 3, 3]), non-zero elements: 1637808\n",
      "features.28.weight: torch.Size([512, 512, 3, 3]), non-zero elements: 1562015\n",
      "classifier.0.weight: torch.Size([4096, 25088]), non-zero elements: 102760448\n",
      "classifier.3.weight: torch.Size([4096, 4096]), non-zero elements: 16777216\n",
      "classifier.6.weight: torch.Size([1000, 4096]), non-zero elements: 4096000\n"
     ]
    }
   ],
   "source": [
    "for name, param in compressed_model2.named_parameters():\n",
    "    if 'weight' in name:\n",
    "        print(f'{name}: {param.shape}, non-zero elements: {torch.nonzero(param).shape[0]}')"
   ]
  },
  {
   "cell_type": "code",
   "execution_count": 52,
   "id": "747e715c",
   "metadata": {},
   "outputs": [
    {
     "name": "stdout",
     "output_type": "stream",
     "text": [
      "features.0.weight: torch.Size([64, 3, 3, 3]), non-zero elements: 1660\n",
      "features.2.weight: torch.Size([64, 64, 3, 3]), non-zero elements: 29067\n",
      "features.5.weight: torch.Size([128, 64, 3, 3]), non-zero elements: 57471\n",
      "features.7.weight: torch.Size([128, 128, 3, 3]), non-zero elements: 109553\n",
      "features.10.weight: torch.Size([256, 128, 3, 3]), non-zero elements: 204959\n",
      "features.12.weight: torch.Size([256, 256, 3, 3]), non-zero elements: 372134\n",
      "features.14.weight: torch.Size([256, 256, 3, 3]), non-zero elements: 376250\n",
      "features.17.weight: torch.Size([512, 256, 3, 3]), non-zero elements: 668910\n",
      "features.19.weight: torch.Size([512, 512, 3, 3]), non-zero elements: 1095475\n",
      "features.21.weight: torch.Size([512, 512, 3, 3]), non-zero elements: 1082496\n",
      "features.24.weight: torch.Size([512, 512, 3, 3]), non-zero elements: 1149715\n",
      "features.26.weight: torch.Size([512, 512, 3, 3]), non-zero elements: 1151854\n",
      "features.28.weight: torch.Size([512, 512, 3, 3]), non-zero elements: 1055688\n",
      "classifier.0.weight: torch.Size([4096, 25088]), non-zero elements: 102760448\n",
      "classifier.3.weight: torch.Size([4096, 4096]), non-zero elements: 16777216\n",
      "classifier.6.weight: torch.Size([1000, 4096]), non-zero elements: 4096000\n"
     ]
    }
   ],
   "source": [
    "for name, param in compressed_model3.named_parameters():\n",
    "    if 'weight' in name:\n",
    "        print(f'{name}: {param.shape}, non-zero elements: {torch.nonzero(param).shape[0]}')"
   ]
  },
  {
   "cell_type": "code",
   "execution_count": 53,
   "id": "1469a60d",
   "metadata": {},
   "outputs": [
    {
     "name": "stdout",
     "output_type": "stream",
     "text": [
      "features.0.weight: torch.Size([64, 3, 3, 3]), non-zero elements: 1617\n",
      "features.2.weight: torch.Size([64, 64, 3, 3]), non-zero elements: 25057\n",
      "features.5.weight: torch.Size([128, 64, 3, 3]), non-zero elements: 49002\n",
      "features.7.weight: torch.Size([128, 128, 3, 3]), non-zero elements: 90197\n",
      "features.10.weight: torch.Size([256, 128, 3, 3]), non-zero elements: 160729\n",
      "features.12.weight: torch.Size([256, 256, 3, 3]), non-zero elements: 269012\n",
      "features.14.weight: torch.Size([256, 256, 3, 3]), non-zero elements: 273722\n",
      "features.17.weight: torch.Size([512, 256, 3, 3]), non-zero elements: 442780\n",
      "features.19.weight: torch.Size([512, 512, 3, 3]), non-zero elements: 606665\n",
      "features.21.weight: torch.Size([512, 512, 3, 3]), non-zero elements: 592004\n",
      "features.24.weight: torch.Size([512, 512, 3, 3]), non-zero elements: 662823\n",
      "features.26.weight: torch.Size([512, 512, 3, 3]), non-zero elements: 660020\n",
      "features.28.weight: torch.Size([512, 512, 3, 3]), non-zero elements: 579511\n",
      "classifier.0.weight: torch.Size([4096, 25088]), non-zero elements: 102760448\n",
      "classifier.3.weight: torch.Size([4096, 4096]), non-zero elements: 16777216\n",
      "classifier.6.weight: torch.Size([1000, 4096]), non-zero elements: 4096000\n"
     ]
    }
   ],
   "source": [
    "for name, param in compressed_model4.named_parameters():\n",
    "    if 'weight' in name:\n",
    "        print(f'{name}: {param.shape}, non-zero elements: {torch.nonzero(param).shape[0]}')"
   ]
  },
  {
   "cell_type": "code",
   "execution_count": 22,
   "id": "b2abdf57",
   "metadata": {},
   "outputs": [
    {
     "name": "stdout",
     "output_type": "stream",
     "text": [
      "features.0.weight: torch.Size([64, 3, 3, 3]), non-zero elements: 1529\n",
      "features.2.weight: torch.Size([64, 64, 3, 3]), non-zero elements: 18478\n",
      "features.5.weight: torch.Size([128, 64, 3, 3]), non-zero elements: 35367\n",
      "features.7.weight: torch.Size([128, 128, 3, 3]), non-zero elements: 59935\n",
      "features.10.weight: torch.Size([256, 128, 3, 3]), non-zero elements: 93927\n",
      "features.12.weight: torch.Size([256, 256, 3, 3]), non-zero elements: 129727\n",
      "features.14.weight: torch.Size([256, 256, 3, 3]), non-zero elements: 133591\n",
      "features.17.weight: torch.Size([512, 256, 3, 3]), non-zero elements: 176377\n",
      "features.19.weight: torch.Size([512, 512, 3, 3]), non-zero elements: 158584\n",
      "features.21.weight: torch.Size([512, 512, 3, 3]), non-zero elements: 153515\n",
      "features.24.weight: torch.Size([512, 512, 3, 3]), non-zero elements: 184946\n",
      "features.26.weight: torch.Size([512, 512, 3, 3]), non-zero elements: 175174\n",
      "features.28.weight: torch.Size([512, 512, 3, 3]), non-zero elements: 149896\n",
      "classifier.0.weight: torch.Size([4096, 25088]), non-zero elements: 102760448\n",
      "classifier.3.weight: torch.Size([4096, 4096]), non-zero elements: 16777216\n",
      "classifier.6.weight: torch.Size([1000, 4096]), non-zero elements: 4096000\n"
     ]
    }
   ],
   "source": [
    "for name, param in compressed_model5.named_parameters():\n",
    "    if 'weight' in name:\n",
    "        print(f'{name}: {param.shape}, non-zero elements: {torch.nonzero(param).shape[0]}')"
   ]
  },
  {
   "cell_type": "code",
   "execution_count": null,
   "id": "d36a87c2",
   "metadata": {},
   "outputs": [],
   "source": []
  }
 ],
 "metadata": {
  "kernelspec": {
   "display_name": "Python [conda env:pytorch]",
   "language": "python",
   "name": "conda-env-pytorch-py"
  },
  "language_info": {
   "codemirror_mode": {
    "name": "ipython",
    "version": 3
   },
   "file_extension": ".py",
   "mimetype": "text/x-python",
   "name": "python",
   "nbconvert_exporter": "python",
   "pygments_lexer": "ipython3",
   "version": "3.9.18"
  }
 },
 "nbformat": 4,
 "nbformat_minor": 5
}
